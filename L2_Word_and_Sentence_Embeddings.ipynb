{
  "nbformat": 4,
  "nbformat_minor": 0,
  "metadata": {
    "colab": {
      "provenance": [],
      "include_colab_link": true
    },
    "kernelspec": {
      "name": "python3",
      "display_name": "Python 3"
    },
    "language_info": {
      "name": "python"
    }
  },
  "cells": [
    {
      "cell_type": "markdown",
      "metadata": {
        "id": "view-in-github",
        "colab_type": "text"
      },
      "source": [
        "<a href=\"https://colab.research.google.com/github/fpgmina/DeepNLP/blob/main/L2_Word_and_Sentence_Embeddings.ipynb\" target=\"_parent\"><img src=\"https://colab.research.google.com/assets/colab-badge.svg\" alt=\"Open In Colab\"/></a>"
      ]
    },
    {
      "cell_type": "markdown",
      "metadata": {
        "id": "dbYDu6cchK-l"
      },
      "source": [
        "#**Deep Natural Language Processing @ PoliTO**\n",
        "\n",
        "---\n",
        "\n",
        "\n",
        "**Teaching Assistant:** Giuseppe Gallipoli\n",
        "\n",
        "**Credits:** Moreno La Quatra\n",
        "\n",
        "**Practice 2:** Word and Sentence Embeddings"
      ]
    },
    {
      "cell_type": "markdown",
      "metadata": {
        "id": "zbJsg8XEOudF"
      },
      "source": [
        "## Word Embedding\n",
        "\n",
        "![](https://qph.fs.quoracdn.net/main-qimg-3e812fd164a08f5e4f195000fecf988f)\n",
        "\n",
        "\n",
        "**Key takeaways** from lessons and in-class practices:\n",
        "- Word embeddings are able to map words into a semantic-aware vector space.\n",
        "- There are multiple architectures for the generation of word embeddings.\n",
        "- Each architecture has its advantages and disadvantages.\n",
        "- Word embedding evaluation could be intrinsic (intermediate tasks) or extrinsic (downstream task).\n",
        "- It is possible to use pre-trained word embedding models or use large amount of text to train it from scratch.\n",
        "- The use of pre-trained word embedding models is a common practice in NLP and removes the need of training a word embedding model from scratch (that could be very time consuming and computationally expensive)."
      ]
    },
    {
      "cell_type": "markdown",
      "source": [
        "Gensim is a Python library for natural language processing (NLP) that specializes in unsupervised learning of word and document representations, particularly for working with large text corpora efficiently.\n",
        "\n",
        "It’s widely used for topic modeling, semantic similarity, and word embeddings."
      ],
      "metadata": {
        "id": "5ZFcRI1_-1ML"
      }
    },
    {
      "cell_type": "markdown",
      "metadata": {
        "id": "w-9kQCr4P8wP"
      },
      "source": [
        "### **Question 1**\n",
        "\n",
        "Train a new Word2Vec model using gensim with the text8 corpus available in the Python package ([reference](https://radimrehurek.com/gensim/downloader.html)). Compute the training time for the model and store it for subsequent steps.\n",
        "\n",
        "**Hint:** you can use the following code to load the text8 corpus:\n",
        "\n",
        "```python\n",
        "import gensim.downloader as api\n",
        "from gensim.models import Word2Vec\n",
        "import time\n",
        "dataset = api.load(\"text8\")\n",
        "```"
      ]
    },
    {
      "cell_type": "code",
      "metadata": {
        "id": "UW_G_mRAOt9e",
        "colab": {
          "base_uri": "https://localhost:8080/"
        },
        "outputId": "34ec0a90-2a33-403d-854c-158b726e29a3"
      },
      "source": [
        "! pip install --upgrade gensim"
      ],
      "execution_count": 1,
      "outputs": [
        {
          "output_type": "stream",
          "name": "stdout",
          "text": [
            "Requirement already satisfied: gensim in /usr/local/lib/python3.12/dist-packages (4.3.3)\n",
            "Requirement already satisfied: numpy<2.0,>=1.18.5 in /usr/local/lib/python3.12/dist-packages (from gensim) (1.26.4)\n",
            "Requirement already satisfied: scipy<1.14.0,>=1.7.0 in /usr/local/lib/python3.12/dist-packages (from gensim) (1.13.1)\n",
            "Requirement already satisfied: smart-open>=1.8.1 in /usr/local/lib/python3.12/dist-packages (from gensim) (7.3.1)\n",
            "Requirement already satisfied: wrapt in /usr/local/lib/python3.12/dist-packages (from smart-open>=1.8.1->gensim) (1.17.3)\n"
          ]
        }
      ]
    },
    {
      "cell_type": "code",
      "metadata": {
        "id": "jadmJNAZhUMn",
        "colab": {
          "base_uri": "https://localhost:8080/"
        },
        "outputId": "ab07e369-7231-4178-915a-9008acfebaa2"
      },
      "source": [
        "import gensim.downloader as api\n",
        "from gensim.models import Word2Vec\n",
        "import time\n",
        "\n",
        "# --- Load the text8 corpus ---\n",
        "print(\"Loading text8 dataset...\")\n",
        "dataset = api.load(\"text8\")  # This is an iterable of tokenized sentences\n",
        "data = list(dataset)         # Convert to list for multiple passes\n",
        "print(f\"Number of sentences: {len(data)}\")\n",
        "\n",
        "# --- Define model parameters ---\n",
        "params = {\n",
        "    \"vector_size\": 100,  # Dimensionality of word embeddings\n",
        "    \"window\": 5,         # Context window size\n",
        "    \"min_count\": 5,      # Ignore words with total frequency lower than this\n",
        "    \"workers\": 4,        # Number of CPU threads\n",
        "    \"sg\": 0              # 0 = CBOW, 1 = Skip-gram\n",
        "}"
      ],
      "execution_count": 2,
      "outputs": [
        {
          "output_type": "stream",
          "name": "stdout",
          "text": [
            "Loading text8 dataset...\n",
            "[==================================================] 100.0% 31.6/31.6MB downloaded\n",
            "Number of sentences: 1701\n"
          ]
        }
      ]
    },
    {
      "cell_type": "code",
      "source": [
        "data[0][:20]"
      ],
      "metadata": {
        "colab": {
          "base_uri": "https://localhost:8080/"
        },
        "id": "eEWhUTAqMyYY",
        "outputId": "62487658-c0c5-4270-fd2c-2a5f7bdd51fa"
      },
      "execution_count": 27,
      "outputs": [
        {
          "output_type": "execute_result",
          "data": {
            "text/plain": [
              "['anarchism',\n",
              " 'originated',\n",
              " 'as',\n",
              " 'a',\n",
              " 'term',\n",
              " 'of',\n",
              " 'abuse',\n",
              " 'first',\n",
              " 'used',\n",
              " 'against',\n",
              " 'early',\n",
              " 'working',\n",
              " 'class',\n",
              " 'radicals',\n",
              " 'including',\n",
              " 'the',\n",
              " 'diggers',\n",
              " 'of',\n",
              " 'the',\n",
              " 'english']"
            ]
          },
          "metadata": {},
          "execution_count": 27
        }
      ]
    },
    {
      "cell_type": "code",
      "source": [
        "# --- Train the model and measure time ---\n",
        "start_time = time.time()\n",
        "model = Word2Vec(sentences=data, **params)\n",
        "training_time = time.time() - start_time\n",
        "\n",
        "print(f\"\\n✅ Training completed in {training_time:.2f} seconds.\")\n",
        "\n",
        "# --- Store model and training time ---\n",
        "model.save(\"word2vec_text8.model\")\n",
        "with open(\"training_time.txt\", \"w\") as f:\n",
        "    f.write(f\"{training_time:.2f} seconds\")\n",
        "\n",
        "print(\"\\nModel and training time saved successfully!\")"
      ],
      "metadata": {
        "colab": {
          "base_uri": "https://localhost:8080/"
        },
        "id": "TTkkwhyZ_GsX",
        "outputId": "f697193c-b62a-4c03-d680-503dbaabf34b"
      },
      "execution_count": 6,
      "outputs": [
        {
          "output_type": "stream",
          "name": "stdout",
          "text": [
            "\n",
            "✅ Training completed in 158.10 seconds.\n",
            "\n",
            "Model and training time saved successfully!\n"
          ]
        }
      ]
    },
    {
      "cell_type": "markdown",
      "metadata": {
        "id": "Mij5WNAARGMl"
      },
      "source": [
        "### **Question 2**\n",
        "Perform **intrinsic** evaluation of the model for the task of word analogy by exploiting the data collection available [here](https://raw.githubusercontent.com/MorenoLaQuatra/DeepNLP/main/practices/P2/google_analogies.csv).\n",
        "\n",
        "1. read CSV file\n",
        "2. group analogy entries by type (column: `type`)\n",
        "3. for each type of entry (**in the lab, just set type=\"family\"** to reduce the required time) use the first 3 word vectors to compute the fourth\n",
        "    - Entry: `Athens,Greece,Baghdad,Iraq`\n",
        "    - `v(Greece) - v(Athens) + v(Baghdad) = res_v`\n",
        "    - Get the most similar vectors to `res_v`\n",
        "    - Compute in how many cases the correct word is among the top k (if `v[Iraq]` is among the k most similar words) with `k = 1, 3, 5, 10`\n",
        "\n",
        "$top(k) = \\dfrac{\\sum_{i=1}^{N} f(i)}{|E|}$\n",
        "\n",
        "where $f(i) = 1$ if the target word is among the top k and $f(i) = 0$ otherwise.\n",
        "\n",
        "$|E|$ is the total number of entries for the considered type.\n",
        "\n",
        "**Notes:**\n",
        "1. Try with the model trained on `text8`, is there any issue? If yes, how can you solve it?\n",
        "2. Test the model trained on Google News available in gensim."
      ]
    },
    {
      "cell_type": "code",
      "source": [
        "import pandas as pd\n",
        "\n",
        "url = \"https://raw.githubusercontent.com/MorenoLaQuatra/DeepNLP/main/practices/P2/google_analogies.csv\"\n",
        "analogies = pd.read_csv(url)\n",
        "\n",
        "print(\"Columns:\", analogies.columns)\n",
        "print(\"Unique types:\", analogies[\"type\"].unique())\n",
        "analogies.head()"
      ],
      "metadata": {
        "colab": {
          "base_uri": "https://localhost:8080/",
          "height": 316
        },
        "id": "-Aim_h7SAirn",
        "outputId": "6aae4a53-cab9-405f-eac5-ba1c3f246361"
      },
      "execution_count": 7,
      "outputs": [
        {
          "output_type": "stream",
          "name": "stdout",
          "text": [
            "Columns: Index(['Unnamed: 0', 'type', 'word1', 'word2', 'word3', 'target'], dtype='object')\n",
            "Unique types: ['capital-common-countries' 'capital-world' 'currency' 'city-in-state'\n",
            " 'family' 'gram1-adjective-to-adverb' 'gram2-opposite' 'gram3-comparative'\n",
            " 'gram4-superlative' 'gram5-present-participle'\n",
            " 'gram6-nationality-adjective' 'gram7-past-tense' 'gram8-plural'\n",
            " 'gram9-plural-verbs']\n"
          ]
        },
        {
          "output_type": "execute_result",
          "data": {
            "text/plain": [
              "   Unnamed: 0                      type   word1   word2    word3       target\n",
              "0           0  capital-common-countries  Athens  Greece  Baghdad         Iraq\n",
              "1           1  capital-common-countries  Athens  Greece  Bangkok     Thailand\n",
              "2           2  capital-common-countries  Athens  Greece  Beijing        China\n",
              "3           3  capital-common-countries  Athens  Greece   Berlin      Germany\n",
              "4           4  capital-common-countries  Athens  Greece     Bern  Switzerland"
            ],
            "text/html": [
              "\n",
              "  <div id=\"df-183d7253-b467-4495-aa1b-ac2ee39a657d\" class=\"colab-df-container\">\n",
              "    <div>\n",
              "<style scoped>\n",
              "    .dataframe tbody tr th:only-of-type {\n",
              "        vertical-align: middle;\n",
              "    }\n",
              "\n",
              "    .dataframe tbody tr th {\n",
              "        vertical-align: top;\n",
              "    }\n",
              "\n",
              "    .dataframe thead th {\n",
              "        text-align: right;\n",
              "    }\n",
              "</style>\n",
              "<table border=\"1\" class=\"dataframe\">\n",
              "  <thead>\n",
              "    <tr style=\"text-align: right;\">\n",
              "      <th></th>\n",
              "      <th>Unnamed: 0</th>\n",
              "      <th>type</th>\n",
              "      <th>word1</th>\n",
              "      <th>word2</th>\n",
              "      <th>word3</th>\n",
              "      <th>target</th>\n",
              "    </tr>\n",
              "  </thead>\n",
              "  <tbody>\n",
              "    <tr>\n",
              "      <th>0</th>\n",
              "      <td>0</td>\n",
              "      <td>capital-common-countries</td>\n",
              "      <td>Athens</td>\n",
              "      <td>Greece</td>\n",
              "      <td>Baghdad</td>\n",
              "      <td>Iraq</td>\n",
              "    </tr>\n",
              "    <tr>\n",
              "      <th>1</th>\n",
              "      <td>1</td>\n",
              "      <td>capital-common-countries</td>\n",
              "      <td>Athens</td>\n",
              "      <td>Greece</td>\n",
              "      <td>Bangkok</td>\n",
              "      <td>Thailand</td>\n",
              "    </tr>\n",
              "    <tr>\n",
              "      <th>2</th>\n",
              "      <td>2</td>\n",
              "      <td>capital-common-countries</td>\n",
              "      <td>Athens</td>\n",
              "      <td>Greece</td>\n",
              "      <td>Beijing</td>\n",
              "      <td>China</td>\n",
              "    </tr>\n",
              "    <tr>\n",
              "      <th>3</th>\n",
              "      <td>3</td>\n",
              "      <td>capital-common-countries</td>\n",
              "      <td>Athens</td>\n",
              "      <td>Greece</td>\n",
              "      <td>Berlin</td>\n",
              "      <td>Germany</td>\n",
              "    </tr>\n",
              "    <tr>\n",
              "      <th>4</th>\n",
              "      <td>4</td>\n",
              "      <td>capital-common-countries</td>\n",
              "      <td>Athens</td>\n",
              "      <td>Greece</td>\n",
              "      <td>Bern</td>\n",
              "      <td>Switzerland</td>\n",
              "    </tr>\n",
              "  </tbody>\n",
              "</table>\n",
              "</div>\n",
              "    <div class=\"colab-df-buttons\">\n",
              "\n",
              "  <div class=\"colab-df-container\">\n",
              "    <button class=\"colab-df-convert\" onclick=\"convertToInteractive('df-183d7253-b467-4495-aa1b-ac2ee39a657d')\"\n",
              "            title=\"Convert this dataframe to an interactive table.\"\n",
              "            style=\"display:none;\">\n",
              "\n",
              "  <svg xmlns=\"http://www.w3.org/2000/svg\" height=\"24px\" viewBox=\"0 -960 960 960\">\n",
              "    <path d=\"M120-120v-720h720v720H120Zm60-500h600v-160H180v160Zm220 220h160v-160H400v160Zm0 220h160v-160H400v160ZM180-400h160v-160H180v160Zm440 0h160v-160H620v160ZM180-180h160v-160H180v160Zm440 0h160v-160H620v160Z\"/>\n",
              "  </svg>\n",
              "    </button>\n",
              "\n",
              "  <style>\n",
              "    .colab-df-container {\n",
              "      display:flex;\n",
              "      gap: 12px;\n",
              "    }\n",
              "\n",
              "    .colab-df-convert {\n",
              "      background-color: #E8F0FE;\n",
              "      border: none;\n",
              "      border-radius: 50%;\n",
              "      cursor: pointer;\n",
              "      display: none;\n",
              "      fill: #1967D2;\n",
              "      height: 32px;\n",
              "      padding: 0 0 0 0;\n",
              "      width: 32px;\n",
              "    }\n",
              "\n",
              "    .colab-df-convert:hover {\n",
              "      background-color: #E2EBFA;\n",
              "      box-shadow: 0px 1px 2px rgba(60, 64, 67, 0.3), 0px 1px 3px 1px rgba(60, 64, 67, 0.15);\n",
              "      fill: #174EA6;\n",
              "    }\n",
              "\n",
              "    .colab-df-buttons div {\n",
              "      margin-bottom: 4px;\n",
              "    }\n",
              "\n",
              "    [theme=dark] .colab-df-convert {\n",
              "      background-color: #3B4455;\n",
              "      fill: #D2E3FC;\n",
              "    }\n",
              "\n",
              "    [theme=dark] .colab-df-convert:hover {\n",
              "      background-color: #434B5C;\n",
              "      box-shadow: 0px 1px 3px 1px rgba(0, 0, 0, 0.15);\n",
              "      filter: drop-shadow(0px 1px 2px rgba(0, 0, 0, 0.3));\n",
              "      fill: #FFFFFF;\n",
              "    }\n",
              "  </style>\n",
              "\n",
              "    <script>\n",
              "      const buttonEl =\n",
              "        document.querySelector('#df-183d7253-b467-4495-aa1b-ac2ee39a657d button.colab-df-convert');\n",
              "      buttonEl.style.display =\n",
              "        google.colab.kernel.accessAllowed ? 'block' : 'none';\n",
              "\n",
              "      async function convertToInteractive(key) {\n",
              "        const element = document.querySelector('#df-183d7253-b467-4495-aa1b-ac2ee39a657d');\n",
              "        const dataTable =\n",
              "          await google.colab.kernel.invokeFunction('convertToInteractive',\n",
              "                                                    [key], {});\n",
              "        if (!dataTable) return;\n",
              "\n",
              "        const docLinkHtml = 'Like what you see? Visit the ' +\n",
              "          '<a target=\"_blank\" href=https://colab.research.google.com/notebooks/data_table.ipynb>data table notebook</a>'\n",
              "          + ' to learn more about interactive tables.';\n",
              "        element.innerHTML = '';\n",
              "        dataTable['output_type'] = 'display_data';\n",
              "        await google.colab.output.renderOutput(dataTable, element);\n",
              "        const docLink = document.createElement('div');\n",
              "        docLink.innerHTML = docLinkHtml;\n",
              "        element.appendChild(docLink);\n",
              "      }\n",
              "    </script>\n",
              "  </div>\n",
              "\n",
              "\n",
              "    <div id=\"df-a8b02ab0-7899-49db-a51f-0edeb0f8a717\">\n",
              "      <button class=\"colab-df-quickchart\" onclick=\"quickchart('df-a8b02ab0-7899-49db-a51f-0edeb0f8a717')\"\n",
              "                title=\"Suggest charts\"\n",
              "                style=\"display:none;\">\n",
              "\n",
              "<svg xmlns=\"http://www.w3.org/2000/svg\" height=\"24px\"viewBox=\"0 0 24 24\"\n",
              "     width=\"24px\">\n",
              "    <g>\n",
              "        <path d=\"M19 3H5c-1.1 0-2 .9-2 2v14c0 1.1.9 2 2 2h14c1.1 0 2-.9 2-2V5c0-1.1-.9-2-2-2zM9 17H7v-7h2v7zm4 0h-2V7h2v10zm4 0h-2v-4h2v4z\"/>\n",
              "    </g>\n",
              "</svg>\n",
              "      </button>\n",
              "\n",
              "<style>\n",
              "  .colab-df-quickchart {\n",
              "      --bg-color: #E8F0FE;\n",
              "      --fill-color: #1967D2;\n",
              "      --hover-bg-color: #E2EBFA;\n",
              "      --hover-fill-color: #174EA6;\n",
              "      --disabled-fill-color: #AAA;\n",
              "      --disabled-bg-color: #DDD;\n",
              "  }\n",
              "\n",
              "  [theme=dark] .colab-df-quickchart {\n",
              "      --bg-color: #3B4455;\n",
              "      --fill-color: #D2E3FC;\n",
              "      --hover-bg-color: #434B5C;\n",
              "      --hover-fill-color: #FFFFFF;\n",
              "      --disabled-bg-color: #3B4455;\n",
              "      --disabled-fill-color: #666;\n",
              "  }\n",
              "\n",
              "  .colab-df-quickchart {\n",
              "    background-color: var(--bg-color);\n",
              "    border: none;\n",
              "    border-radius: 50%;\n",
              "    cursor: pointer;\n",
              "    display: none;\n",
              "    fill: var(--fill-color);\n",
              "    height: 32px;\n",
              "    padding: 0;\n",
              "    width: 32px;\n",
              "  }\n",
              "\n",
              "  .colab-df-quickchart:hover {\n",
              "    background-color: var(--hover-bg-color);\n",
              "    box-shadow: 0 1px 2px rgba(60, 64, 67, 0.3), 0 1px 3px 1px rgba(60, 64, 67, 0.15);\n",
              "    fill: var(--button-hover-fill-color);\n",
              "  }\n",
              "\n",
              "  .colab-df-quickchart-complete:disabled,\n",
              "  .colab-df-quickchart-complete:disabled:hover {\n",
              "    background-color: var(--disabled-bg-color);\n",
              "    fill: var(--disabled-fill-color);\n",
              "    box-shadow: none;\n",
              "  }\n",
              "\n",
              "  .colab-df-spinner {\n",
              "    border: 2px solid var(--fill-color);\n",
              "    border-color: transparent;\n",
              "    border-bottom-color: var(--fill-color);\n",
              "    animation:\n",
              "      spin 1s steps(1) infinite;\n",
              "  }\n",
              "\n",
              "  @keyframes spin {\n",
              "    0% {\n",
              "      border-color: transparent;\n",
              "      border-bottom-color: var(--fill-color);\n",
              "      border-left-color: var(--fill-color);\n",
              "    }\n",
              "    20% {\n",
              "      border-color: transparent;\n",
              "      border-left-color: var(--fill-color);\n",
              "      border-top-color: var(--fill-color);\n",
              "    }\n",
              "    30% {\n",
              "      border-color: transparent;\n",
              "      border-left-color: var(--fill-color);\n",
              "      border-top-color: var(--fill-color);\n",
              "      border-right-color: var(--fill-color);\n",
              "    }\n",
              "    40% {\n",
              "      border-color: transparent;\n",
              "      border-right-color: var(--fill-color);\n",
              "      border-top-color: var(--fill-color);\n",
              "    }\n",
              "    60% {\n",
              "      border-color: transparent;\n",
              "      border-right-color: var(--fill-color);\n",
              "    }\n",
              "    80% {\n",
              "      border-color: transparent;\n",
              "      border-right-color: var(--fill-color);\n",
              "      border-bottom-color: var(--fill-color);\n",
              "    }\n",
              "    90% {\n",
              "      border-color: transparent;\n",
              "      border-bottom-color: var(--fill-color);\n",
              "    }\n",
              "  }\n",
              "</style>\n",
              "\n",
              "      <script>\n",
              "        async function quickchart(key) {\n",
              "          const quickchartButtonEl =\n",
              "            document.querySelector('#' + key + ' button');\n",
              "          quickchartButtonEl.disabled = true;  // To prevent multiple clicks.\n",
              "          quickchartButtonEl.classList.add('colab-df-spinner');\n",
              "          try {\n",
              "            const charts = await google.colab.kernel.invokeFunction(\n",
              "                'suggestCharts', [key], {});\n",
              "          } catch (error) {\n",
              "            console.error('Error during call to suggestCharts:', error);\n",
              "          }\n",
              "          quickchartButtonEl.classList.remove('colab-df-spinner');\n",
              "          quickchartButtonEl.classList.add('colab-df-quickchart-complete');\n",
              "        }\n",
              "        (() => {\n",
              "          let quickchartButtonEl =\n",
              "            document.querySelector('#df-a8b02ab0-7899-49db-a51f-0edeb0f8a717 button');\n",
              "          quickchartButtonEl.style.display =\n",
              "            google.colab.kernel.accessAllowed ? 'block' : 'none';\n",
              "        })();\n",
              "      </script>\n",
              "    </div>\n",
              "\n",
              "    </div>\n",
              "  </div>\n"
            ],
            "application/vnd.google.colaboratory.intrinsic+json": {
              "type": "dataframe",
              "variable_name": "analogies",
              "summary": "{\n  \"name\": \"analogies\",\n  \"rows\": 19544,\n  \"fields\": [\n    {\n      \"column\": \"Unnamed: 0\",\n      \"properties\": {\n        \"dtype\": \"number\",\n        \"std\": 5642,\n        \"min\": 0,\n        \"max\": 19543,\n        \"num_unique_values\": 19544,\n        \"samples\": [\n          13845,\n          16183,\n          5814\n        ],\n        \"semantic_type\": \"\",\n        \"description\": \"\"\n      }\n    },\n    {\n      \"column\": \"type\",\n      \"properties\": {\n        \"dtype\": \"category\",\n        \"num_unique_values\": 14,\n        \"samples\": [\n          \"gram5-present-participle\",\n          \"gram7-past-tense\",\n          \"capital-common-countries\"\n        ],\n        \"semantic_type\": \"\",\n        \"description\": \"\"\n      }\n    },\n    {\n      \"column\": \"word1\",\n      \"properties\": {\n        \"dtype\": \"category\",\n        \"num_unique_values\": 474,\n        \"samples\": [\n          \"walking\",\n          \"cow\",\n          \"Havana\"\n        ],\n        \"semantic_type\": \"\",\n        \"description\": \"\"\n      }\n    },\n    {\n      \"column\": \"word2\",\n      \"properties\": {\n        \"dtype\": \"category\",\n        \"num_unique_values\": 506,\n        \"samples\": [\n          \"mom\",\n          \"older\",\n          \"screams\"\n        ],\n        \"semantic_type\": \"\",\n        \"description\": \"\"\n      }\n    },\n    {\n      \"column\": \"word3\",\n      \"properties\": {\n        \"dtype\": \"category\",\n        \"num_unique_values\": 474,\n        \"samples\": [\n          \"writing\",\n          \"dog\",\n          \"Helsinki\"\n        ],\n        \"semantic_type\": \"\",\n        \"description\": \"\"\n      }\n    },\n    {\n      \"column\": \"target\",\n      \"properties\": {\n        \"dtype\": \"category\",\n        \"num_unique_values\": 506,\n        \"samples\": [\n          \"mother\",\n          \"quicker\",\n          \"searches\"\n        ],\n        \"semantic_type\": \"\",\n        \"description\": \"\"\n      }\n    }\n  ]\n}"
            }
          },
          "metadata": {},
          "execution_count": 7
        }
      ]
    },
    {
      "cell_type": "code",
      "source": [
        "# To reduce computation time, we’ll start with \"family\" relations such as “boy : girl :: father : mother”.\n",
        "subset = analogies[analogies[\"type\"] == \"family\"]\n",
        "print(f\"Number of family analogies: {len(subset)}\")"
      ],
      "metadata": {
        "colab": {
          "base_uri": "https://localhost:8080/"
        },
        "id": "6mUGzZ7mCTri",
        "outputId": "45349dac-fabf-4247-bb4c-f9450e1beee6"
      },
      "execution_count": 8,
      "outputs": [
        {
          "output_type": "stream",
          "name": "stdout",
          "text": [
            "Number of family analogies: 506\n"
          ]
        }
      ]
    },
    {
      "cell_type": "code",
      "source": [
        "subset.head()"
      ],
      "metadata": {
        "colab": {
          "base_uri": "https://localhost:8080/",
          "height": 206
        },
        "id": "IBp_r_0ICafT",
        "outputId": "72379e4c-f821-4578-ac63-24c828e25027"
      },
      "execution_count": 10,
      "outputs": [
        {
          "output_type": "execute_result",
          "data": {
            "text/plain": [
              "      Unnamed: 0    type word1 word2        word3       target\n",
              "8363        8363  family   boy  girl      brother       sister\n",
              "8364        8364  family   boy  girl     brothers      sisters\n",
              "8365        8365  family   boy  girl          dad          mom\n",
              "8366        8366  family   boy  girl       father       mother\n",
              "8367        8367  family   boy  girl  grandfather  grandmother"
            ],
            "text/html": [
              "\n",
              "  <div id=\"df-2f4f69a7-3bfb-4df8-911a-c6e20171dc47\" class=\"colab-df-container\">\n",
              "    <div>\n",
              "<style scoped>\n",
              "    .dataframe tbody tr th:only-of-type {\n",
              "        vertical-align: middle;\n",
              "    }\n",
              "\n",
              "    .dataframe tbody tr th {\n",
              "        vertical-align: top;\n",
              "    }\n",
              "\n",
              "    .dataframe thead th {\n",
              "        text-align: right;\n",
              "    }\n",
              "</style>\n",
              "<table border=\"1\" class=\"dataframe\">\n",
              "  <thead>\n",
              "    <tr style=\"text-align: right;\">\n",
              "      <th></th>\n",
              "      <th>Unnamed: 0</th>\n",
              "      <th>type</th>\n",
              "      <th>word1</th>\n",
              "      <th>word2</th>\n",
              "      <th>word3</th>\n",
              "      <th>target</th>\n",
              "    </tr>\n",
              "  </thead>\n",
              "  <tbody>\n",
              "    <tr>\n",
              "      <th>8363</th>\n",
              "      <td>8363</td>\n",
              "      <td>family</td>\n",
              "      <td>boy</td>\n",
              "      <td>girl</td>\n",
              "      <td>brother</td>\n",
              "      <td>sister</td>\n",
              "    </tr>\n",
              "    <tr>\n",
              "      <th>8364</th>\n",
              "      <td>8364</td>\n",
              "      <td>family</td>\n",
              "      <td>boy</td>\n",
              "      <td>girl</td>\n",
              "      <td>brothers</td>\n",
              "      <td>sisters</td>\n",
              "    </tr>\n",
              "    <tr>\n",
              "      <th>8365</th>\n",
              "      <td>8365</td>\n",
              "      <td>family</td>\n",
              "      <td>boy</td>\n",
              "      <td>girl</td>\n",
              "      <td>dad</td>\n",
              "      <td>mom</td>\n",
              "    </tr>\n",
              "    <tr>\n",
              "      <th>8366</th>\n",
              "      <td>8366</td>\n",
              "      <td>family</td>\n",
              "      <td>boy</td>\n",
              "      <td>girl</td>\n",
              "      <td>father</td>\n",
              "      <td>mother</td>\n",
              "    </tr>\n",
              "    <tr>\n",
              "      <th>8367</th>\n",
              "      <td>8367</td>\n",
              "      <td>family</td>\n",
              "      <td>boy</td>\n",
              "      <td>girl</td>\n",
              "      <td>grandfather</td>\n",
              "      <td>grandmother</td>\n",
              "    </tr>\n",
              "  </tbody>\n",
              "</table>\n",
              "</div>\n",
              "    <div class=\"colab-df-buttons\">\n",
              "\n",
              "  <div class=\"colab-df-container\">\n",
              "    <button class=\"colab-df-convert\" onclick=\"convertToInteractive('df-2f4f69a7-3bfb-4df8-911a-c6e20171dc47')\"\n",
              "            title=\"Convert this dataframe to an interactive table.\"\n",
              "            style=\"display:none;\">\n",
              "\n",
              "  <svg xmlns=\"http://www.w3.org/2000/svg\" height=\"24px\" viewBox=\"0 -960 960 960\">\n",
              "    <path d=\"M120-120v-720h720v720H120Zm60-500h600v-160H180v160Zm220 220h160v-160H400v160Zm0 220h160v-160H400v160ZM180-400h160v-160H180v160Zm440 0h160v-160H620v160ZM180-180h160v-160H180v160Zm440 0h160v-160H620v160Z\"/>\n",
              "  </svg>\n",
              "    </button>\n",
              "\n",
              "  <style>\n",
              "    .colab-df-container {\n",
              "      display:flex;\n",
              "      gap: 12px;\n",
              "    }\n",
              "\n",
              "    .colab-df-convert {\n",
              "      background-color: #E8F0FE;\n",
              "      border: none;\n",
              "      border-radius: 50%;\n",
              "      cursor: pointer;\n",
              "      display: none;\n",
              "      fill: #1967D2;\n",
              "      height: 32px;\n",
              "      padding: 0 0 0 0;\n",
              "      width: 32px;\n",
              "    }\n",
              "\n",
              "    .colab-df-convert:hover {\n",
              "      background-color: #E2EBFA;\n",
              "      box-shadow: 0px 1px 2px rgba(60, 64, 67, 0.3), 0px 1px 3px 1px rgba(60, 64, 67, 0.15);\n",
              "      fill: #174EA6;\n",
              "    }\n",
              "\n",
              "    .colab-df-buttons div {\n",
              "      margin-bottom: 4px;\n",
              "    }\n",
              "\n",
              "    [theme=dark] .colab-df-convert {\n",
              "      background-color: #3B4455;\n",
              "      fill: #D2E3FC;\n",
              "    }\n",
              "\n",
              "    [theme=dark] .colab-df-convert:hover {\n",
              "      background-color: #434B5C;\n",
              "      box-shadow: 0px 1px 3px 1px rgba(0, 0, 0, 0.15);\n",
              "      filter: drop-shadow(0px 1px 2px rgba(0, 0, 0, 0.3));\n",
              "      fill: #FFFFFF;\n",
              "    }\n",
              "  </style>\n",
              "\n",
              "    <script>\n",
              "      const buttonEl =\n",
              "        document.querySelector('#df-2f4f69a7-3bfb-4df8-911a-c6e20171dc47 button.colab-df-convert');\n",
              "      buttonEl.style.display =\n",
              "        google.colab.kernel.accessAllowed ? 'block' : 'none';\n",
              "\n",
              "      async function convertToInteractive(key) {\n",
              "        const element = document.querySelector('#df-2f4f69a7-3bfb-4df8-911a-c6e20171dc47');\n",
              "        const dataTable =\n",
              "          await google.colab.kernel.invokeFunction('convertToInteractive',\n",
              "                                                    [key], {});\n",
              "        if (!dataTable) return;\n",
              "\n",
              "        const docLinkHtml = 'Like what you see? Visit the ' +\n",
              "          '<a target=\"_blank\" href=https://colab.research.google.com/notebooks/data_table.ipynb>data table notebook</a>'\n",
              "          + ' to learn more about interactive tables.';\n",
              "        element.innerHTML = '';\n",
              "        dataTable['output_type'] = 'display_data';\n",
              "        await google.colab.output.renderOutput(dataTable, element);\n",
              "        const docLink = document.createElement('div');\n",
              "        docLink.innerHTML = docLinkHtml;\n",
              "        element.appendChild(docLink);\n",
              "      }\n",
              "    </script>\n",
              "  </div>\n",
              "\n",
              "\n",
              "    <div id=\"df-c3c01196-6b92-46fe-ba8c-af45843c37b3\">\n",
              "      <button class=\"colab-df-quickchart\" onclick=\"quickchart('df-c3c01196-6b92-46fe-ba8c-af45843c37b3')\"\n",
              "                title=\"Suggest charts\"\n",
              "                style=\"display:none;\">\n",
              "\n",
              "<svg xmlns=\"http://www.w3.org/2000/svg\" height=\"24px\"viewBox=\"0 0 24 24\"\n",
              "     width=\"24px\">\n",
              "    <g>\n",
              "        <path d=\"M19 3H5c-1.1 0-2 .9-2 2v14c0 1.1.9 2 2 2h14c1.1 0 2-.9 2-2V5c0-1.1-.9-2-2-2zM9 17H7v-7h2v7zm4 0h-2V7h2v10zm4 0h-2v-4h2v4z\"/>\n",
              "    </g>\n",
              "</svg>\n",
              "      </button>\n",
              "\n",
              "<style>\n",
              "  .colab-df-quickchart {\n",
              "      --bg-color: #E8F0FE;\n",
              "      --fill-color: #1967D2;\n",
              "      --hover-bg-color: #E2EBFA;\n",
              "      --hover-fill-color: #174EA6;\n",
              "      --disabled-fill-color: #AAA;\n",
              "      --disabled-bg-color: #DDD;\n",
              "  }\n",
              "\n",
              "  [theme=dark] .colab-df-quickchart {\n",
              "      --bg-color: #3B4455;\n",
              "      --fill-color: #D2E3FC;\n",
              "      --hover-bg-color: #434B5C;\n",
              "      --hover-fill-color: #FFFFFF;\n",
              "      --disabled-bg-color: #3B4455;\n",
              "      --disabled-fill-color: #666;\n",
              "  }\n",
              "\n",
              "  .colab-df-quickchart {\n",
              "    background-color: var(--bg-color);\n",
              "    border: none;\n",
              "    border-radius: 50%;\n",
              "    cursor: pointer;\n",
              "    display: none;\n",
              "    fill: var(--fill-color);\n",
              "    height: 32px;\n",
              "    padding: 0;\n",
              "    width: 32px;\n",
              "  }\n",
              "\n",
              "  .colab-df-quickchart:hover {\n",
              "    background-color: var(--hover-bg-color);\n",
              "    box-shadow: 0 1px 2px rgba(60, 64, 67, 0.3), 0 1px 3px 1px rgba(60, 64, 67, 0.15);\n",
              "    fill: var(--button-hover-fill-color);\n",
              "  }\n",
              "\n",
              "  .colab-df-quickchart-complete:disabled,\n",
              "  .colab-df-quickchart-complete:disabled:hover {\n",
              "    background-color: var(--disabled-bg-color);\n",
              "    fill: var(--disabled-fill-color);\n",
              "    box-shadow: none;\n",
              "  }\n",
              "\n",
              "  .colab-df-spinner {\n",
              "    border: 2px solid var(--fill-color);\n",
              "    border-color: transparent;\n",
              "    border-bottom-color: var(--fill-color);\n",
              "    animation:\n",
              "      spin 1s steps(1) infinite;\n",
              "  }\n",
              "\n",
              "  @keyframes spin {\n",
              "    0% {\n",
              "      border-color: transparent;\n",
              "      border-bottom-color: var(--fill-color);\n",
              "      border-left-color: var(--fill-color);\n",
              "    }\n",
              "    20% {\n",
              "      border-color: transparent;\n",
              "      border-left-color: var(--fill-color);\n",
              "      border-top-color: var(--fill-color);\n",
              "    }\n",
              "    30% {\n",
              "      border-color: transparent;\n",
              "      border-left-color: var(--fill-color);\n",
              "      border-top-color: var(--fill-color);\n",
              "      border-right-color: var(--fill-color);\n",
              "    }\n",
              "    40% {\n",
              "      border-color: transparent;\n",
              "      border-right-color: var(--fill-color);\n",
              "      border-top-color: var(--fill-color);\n",
              "    }\n",
              "    60% {\n",
              "      border-color: transparent;\n",
              "      border-right-color: var(--fill-color);\n",
              "    }\n",
              "    80% {\n",
              "      border-color: transparent;\n",
              "      border-right-color: var(--fill-color);\n",
              "      border-bottom-color: var(--fill-color);\n",
              "    }\n",
              "    90% {\n",
              "      border-color: transparent;\n",
              "      border-bottom-color: var(--fill-color);\n",
              "    }\n",
              "  }\n",
              "</style>\n",
              "\n",
              "      <script>\n",
              "        async function quickchart(key) {\n",
              "          const quickchartButtonEl =\n",
              "            document.querySelector('#' + key + ' button');\n",
              "          quickchartButtonEl.disabled = true;  // To prevent multiple clicks.\n",
              "          quickchartButtonEl.classList.add('colab-df-spinner');\n",
              "          try {\n",
              "            const charts = await google.colab.kernel.invokeFunction(\n",
              "                'suggestCharts', [key], {});\n",
              "          } catch (error) {\n",
              "            console.error('Error during call to suggestCharts:', error);\n",
              "          }\n",
              "          quickchartButtonEl.classList.remove('colab-df-spinner');\n",
              "          quickchartButtonEl.classList.add('colab-df-quickchart-complete');\n",
              "        }\n",
              "        (() => {\n",
              "          let quickchartButtonEl =\n",
              "            document.querySelector('#df-c3c01196-6b92-46fe-ba8c-af45843c37b3 button');\n",
              "          quickchartButtonEl.style.display =\n",
              "            google.colab.kernel.accessAllowed ? 'block' : 'none';\n",
              "        })();\n",
              "      </script>\n",
              "    </div>\n",
              "\n",
              "    </div>\n",
              "  </div>\n"
            ],
            "application/vnd.google.colaboratory.intrinsic+json": {
              "type": "dataframe",
              "variable_name": "subset",
              "summary": "{\n  \"name\": \"subset\",\n  \"rows\": 506,\n  \"fields\": [\n    {\n      \"column\": \"Unnamed: 0\",\n      \"properties\": {\n        \"dtype\": \"number\",\n        \"std\": 146,\n        \"min\": 8363,\n        \"max\": 8868,\n        \"num_unique_values\": 506,\n        \"samples\": [\n          8536,\n          8637,\n          8854\n        ],\n        \"semantic_type\": \"\",\n        \"description\": \"\"\n      }\n    },\n    {\n      \"column\": \"type\",\n      \"properties\": {\n        \"dtype\": \"category\",\n        \"num_unique_values\": 1,\n        \"samples\": [\n          \"family\"\n        ],\n        \"semantic_type\": \"\",\n        \"description\": \"\"\n      }\n    },\n    {\n      \"column\": \"word1\",\n      \"properties\": {\n        \"dtype\": \"category\",\n        \"num_unique_values\": 23,\n        \"samples\": [\n          \"policeman\"\n        ],\n        \"semantic_type\": \"\",\n        \"description\": \"\"\n      }\n    },\n    {\n      \"column\": \"word2\",\n      \"properties\": {\n        \"dtype\": \"category\",\n        \"num_unique_values\": 23,\n        \"samples\": [\n          \"policewoman\"\n        ],\n        \"semantic_type\": \"\",\n        \"description\": \"\"\n      }\n    },\n    {\n      \"column\": \"word3\",\n      \"properties\": {\n        \"dtype\": \"category\",\n        \"num_unique_values\": 23,\n        \"samples\": [\n          \"prince\"\n        ],\n        \"semantic_type\": \"\",\n        \"description\": \"\"\n      }\n    },\n    {\n      \"column\": \"target\",\n      \"properties\": {\n        \"dtype\": \"category\",\n        \"num_unique_values\": 23,\n        \"samples\": [\n          \"princess\"\n        ],\n        \"semantic_type\": \"\",\n        \"description\": \"\"\n      }\n    }\n  ]\n}"
            }
          },
          "metadata": {},
          "execution_count": 10
        }
      ]
    },
    {
      "cell_type": "code",
      "source": [
        "# Let's load our trained model\n",
        "from gensim.models import Word2Vec\n",
        "model = Word2Vec.load(\"word2vec_text8.model\")"
      ],
      "metadata": {
        "id": "wBEWFgnGCp5j"
      },
      "execution_count": 11,
      "outputs": []
    },
    {
      "cell_type": "code",
      "source": [
        "from gensim.models import KeyedVectors\n",
        "\n",
        "# --------------------------------------------------------\n",
        "# Evaluate word analogies (works for Word2Vec or KeyedVectors)\n",
        "# --------------------------------------------------------\n",
        "def evaluate_analogies(model: Word2Vec | KeyedVectors, df: pd.DataFrame, top_ks: list =[1, 3, 5, 10]):\n",
        "    \"\"\"\n",
        "    Evaluate word analogies of the form:\n",
        "        word1 : word2 :: word3 : word4\n",
        "    using vector arithmetic and similarity ranking.\n",
        "\n",
        "    This function automatically detects if 'model' is:\n",
        "    - Word2Vec object (use model.wv for vectors)\n",
        "    - KeyedVectors object (use model directly)\n",
        "\n",
        "    Parameters\n",
        "    ----------\n",
        "    model : gensim.models.Word2Vec or gensim.models.KeyedVectors\n",
        "        The word embeddings to use for evaluation.\n",
        "    df : pandas.DataFrame\n",
        "        DataFrame with columns: word1, word2, word3, word4, type\n",
        "    top_ks : list of int\n",
        "        The top-k values to check accuracy for (default [1,3,5,10])\n",
        "\n",
        "    Returns\n",
        "    -------\n",
        "    dict\n",
        "        Dictionary mapping each top-k to accuracy (fraction of correct analogies)\n",
        "\n",
        "    NB: w2v_google_news_model is already a KeyedVectors object, not a full Word2Vec model.\n",
        "    KeyedVectors does not have .wv, because it is the word vectors.\n",
        "    \"\"\"\n",
        "    # --------------------------------------------------------\n",
        "    # Detect if the model is a full Word2Vec model or KeyedVectors\n",
        "    # --------------------------------------------------------\n",
        "    if hasattr(model, \"wv\"):  # Word2Vec object\n",
        "        vectors = model.wv  #  wv stands for word-vectors\n",
        "    else:  # KeyedVectors object\n",
        "        vectors = model  # see NB above\n",
        "\n",
        "    # Initialize result counters for each top-k\n",
        "    results = {k: 0 for k in top_ks}\n",
        "    total = 0  # number of valid analogies evaluated\n",
        "\n",
        "    # --------------------------------------------------------\n",
        "    # Loop through all analogies in the DataFrame\n",
        "    # --------------------------------------------------------\n",
        "    for _, row in df.iterrows():\n",
        "        w1, w2, w3, target = row[\"word1\"], row[\"word2\"], row[\"word3\"], row[\"target\"]  # str\n",
        "\n",
        "        # Skip analogy if any of the words are not in the vocabulary\n",
        "        if not all(w in vectors.key_to_index for w in [w1, w2, w3, target]):\n",
        "            continue\n",
        "\n",
        "        # compute the analogy vector\n",
        "        res_v = vectors[w2] - vectors[w1] + vectors[w3] ## numpy array\n",
        "\n",
        "        # finds the words whose vectors are most similar to the vector res_v.\n",
        "        sims = vectors.similar_by_vector(res_v, topn=max(top_ks))\n",
        "\n",
        "        # Extract only the words (ignore similarity scores)\n",
        "        predicted_words = [word for word, _ in sims]\n",
        "\n",
        "        # --------------------------------------------------------\n",
        "        # Check if the true target word (w4) is in the top-k predictions\n",
        "        # --------------------------------------------------------\n",
        "        for k in top_ks:\n",
        "            results[k] += 1 if target in predicted_words[:k] else 0\n",
        "\n",
        "        total += 1\n",
        "\n",
        "    # --------------------------------------------------------\n",
        "    # Compute final accuracy as fraction of correct predictions\n",
        "    # --------------------------------------------------------\n",
        "    accuracies = {k: results[k] / total if total > 0 else 0 for k in top_ks}\n",
        "    print(f\"Evaluated {total} valid analogies.\")\n",
        "    return accuracies\n"
      ],
      "metadata": {
        "id": "yrpq0TvFKau7"
      },
      "execution_count": 24,
      "outputs": []
    },
    {
      "cell_type": "code",
      "source": [
        "scores = evaluate_analogies(model, subset)\n",
        "print(\"\\nResults for text8 model:\")\n",
        "for k, v in scores.items():\n",
        "    print(f\"Top-{k}: {v:.3f}\")\n"
      ],
      "metadata": {
        "colab": {
          "base_uri": "https://localhost:8080/"
        },
        "id": "w3jC4WHCELYH",
        "outputId": "ad771e55-b432-4c60-96c4-aca997fde8b9"
      },
      "execution_count": 25,
      "outputs": [
        {
          "output_type": "stream",
          "name": "stdout",
          "text": [
            "Evaluated 420 valid analogies.\n",
            "\n",
            "Results for text8 model:\n",
            "Top-1: 0.069\n",
            "Top-3: 0.650\n",
            "Top-5: 0.717\n",
            "Top-10: 0.767\n"
          ]
        }
      ]
    },
    {
      "cell_type": "code",
      "metadata": {
        "id": "LDPl6w1ob3WX",
        "colab": {
          "base_uri": "https://localhost:8080/"
        },
        "outputId": "176f2cce-2a8b-4d0d-b78c-ebef1e9541e6"
      },
      "source": [
        "# Executing this cell could take ~5 minutes\n",
        "import gensim.downloader\n",
        "w2v_google_news_model = gensim.downloader.load('word2vec-google-news-300')  # 1.6GB object"
      ],
      "execution_count": 19,
      "outputs": [
        {
          "output_type": "stream",
          "name": "stdout",
          "text": [
            "[==================================================] 100.0% 1662.8/1662.8MB downloaded\n"
          ]
        }
      ]
    },
    {
      "cell_type": "code",
      "metadata": {
        "id": "q_1nphJpTalX",
        "colab": {
          "base_uri": "https://localhost:8080/"
        },
        "outputId": "4d4120fe-2b0e-42e8-d627-2489d2c24a96"
      },
      "source": [
        "scores_google = evaluate_analogies(w2v_google_news_model, subset)\n",
        "print(\"\\nResults for Google News model:\")\n",
        "for k, v in scores_google.items():\n",
        "    print(f\"Top-{k}: {v:.3f}\")"
      ],
      "execution_count": 26,
      "outputs": [
        {
          "output_type": "stream",
          "name": "stdout",
          "text": [
            "Evaluated 506 valid analogies.\n",
            "\n",
            "Results for Google News model:\n",
            "Top-1: 0.350\n",
            "Top-3: 0.879\n",
            "Top-5: 0.937\n",
            "Top-10: 0.972\n"
          ]
        }
      ]
    },
    {
      "cell_type": "markdown",
      "metadata": {
        "id": "noRDD9hWmyZO"
      },
      "source": [
        "### **Question 3**\n",
        "\n",
        "Train a new FastText model using gensim with text8 corpus available in the Python package ([reference](https://radimrehurek.com/gensim/downloader.html)). Compute the training time for the model and store it for subsequent steps.\n",
        "\n",
        "- Is there any significant difference in training time if compared with Word2Vec training?"
      ]
    },
    {
      "cell_type": "code",
      "metadata": {
        "id": "B7rN6kZ7nWLM"
      },
      "source": [
        "# your code here"
      ],
      "execution_count": null,
      "outputs": []
    },
    {
      "cell_type": "markdown",
      "metadata": {
        "id": "UoAQbgL1oiEM"
      },
      "source": [
        "### **Question 4**\n",
        "Provide the same evaluation done in Question 2 for the FastText model. In this case, you can use the same type of analogy (family) and the same k values.\n",
        "\n",
        "**Notes:**\n",
        "- Try with the model trained on `text8`, is there any issue? What does it mean?\n",
        "- Test the model trained on Wikipedia+News available in gensim."
      ]
    },
    {
      "cell_type": "code",
      "metadata": {
        "id": "wOnGE-I2o_fq"
      },
      "source": [
        "# Executing this cell could take ~5 minutes\n",
        "import gensim.downloader\n",
        "ft_wiki_news_model = gensim.downloader.load('fasttext-wiki-news-subwords-300')"
      ],
      "execution_count": null,
      "outputs": []
    },
    {
      "cell_type": "code",
      "metadata": {
        "id": "eZIapZOSohjg"
      },
      "source": [
        "# your code here"
      ],
      "execution_count": null,
      "outputs": []
    },
    {
      "cell_type": "markdown",
      "metadata": {
        "id": "WRneIhkoxV_O"
      },
      "source": [
        "### **Question 5** (optional)\n",
        "\n",
        "Provide a complete evaluation of the best performing models (Word2Vec and FastText) by leveraging the complete dataset of analogy entries. In this case, you should use all the analogy types and all you can use the same k values provided in Question 2."
      ]
    },
    {
      "cell_type": "code",
      "source": [
        "# your code here"
      ],
      "metadata": {
        "id": "RIuWAt5a4jdl"
      },
      "execution_count": null,
      "outputs": []
    },
    {
      "cell_type": "markdown",
      "metadata": {
        "id": "k-AuxU7YhU7D"
      },
      "source": [
        "## Sentence Embeddings\n",
        "\n",
        "Sentence embeddings are a way to represent a sentence in a vector space. The vector space is usually learned from a large corpus of text. They are used in many NLP tasks, such as text classification, text similarity, and question answering. In this practice, we will use and interact both with Doc2Vec and InferSent models.\n",
        "\n",
        "**Key takeaways** from lessons and in-class practices:\n",
        "- Doc2Vec is an extension of the Word2Vec framework.\n",
        "- It incorporates Document ID to obtain a more accurate representation of a document/paragraph.\n",
        "- Training document vectors are pre-computed, however you can infer vectors for new documents.\n",
        "- InferSent exploit a deep learning architecture to supervisedly learn sentence representations.\n",
        "- InferSent vectors could exploit both Word2Vec or FastText as word embedding models."
      ]
    },
    {
      "cell_type": "markdown",
      "metadata": {
        "id": "60_q4G-xyooQ"
      },
      "source": [
        "### **Question 6**\n",
        "\n",
        "Train a novel Doc2Vec model using the [APIs provided by gensim](https://radimrehurek.com/gensim/models/doc2vec.html) with text8 corpus.\n",
        "\n",
        "- Which is the training time for the model? Is it comparable with Word2Vec and FastText training time?\n",
        "\n",
        "**Note:** Store the model to a file for subsequent steps."
      ]
    },
    {
      "cell_type": "code",
      "source": [
        "import gensim.downloader as api\n",
        "from gensim.models import Doc2Vec\n",
        "from gensim.models.doc2vec import TaggedDocument\n",
        "import time\n",
        "\n",
        "# --- Load the text8 corpus ---\n",
        "print(\"Loading text8 dataset...\")\n",
        "dataset = api.load(\"text8\")  # This is an iterable of tokenized sentences\n",
        "data = list(dataset)         # Convert to list for multiple passes\n",
        "print(f\"Number of sentences: {len(data)}\")\n",
        "\n",
        "# --- Define model parameters ---\n",
        "params = {\n",
        "    \"vector_size\": 100,  # Dimensionality of word embeddings\n",
        "    \"window\": 5,         # Context window size\n",
        "    \"min_count\": 5,      # Ignore words with total frequency lower than this\n",
        "    \"workers\": 4,        # Number of CPU threads\n",
        "    \"dm\": 1              # 1=PV-DM (Distributed Memory), 0=PV-DBOW (Distributed Bag of Words)\n",
        "}"
      ],
      "metadata": {
        "colab": {
          "base_uri": "https://localhost:8080/"
        },
        "id": "Nm3mVxKTQMct",
        "outputId": "d525d6e2-db84-4e94-bd71-7625d3d0cd8e"
      },
      "execution_count": 41,
      "outputs": [
        {
          "output_type": "stream",
          "name": "stdout",
          "text": [
            "Loading text8 dataset...\n",
            "Number of sentences: 1701\n"
          ]
        }
      ]
    },
    {
      "cell_type": "code",
      "source": [
        "# Each sentence is treated as a \"document\" and tagged with a unique ID\n",
        "tagged_data = [TaggedDocument(words=sentence, tags=[str(i)]) for i, sentence in enumerate(data)]"
      ],
      "metadata": {
        "id": "gdHQlPgHQoxn"
      },
      "execution_count": 38,
      "outputs": []
    },
    {
      "cell_type": "code",
      "metadata": {
        "id": "QgyjJaCehmjA",
        "colab": {
          "base_uri": "https://localhost:8080/"
        },
        "outputId": "4981bf76-8aa0-460d-a408-c3737a71a113"
      },
      "source": [
        "# --- Train the model and measure time ---\n",
        "start_time = time.time()\n",
        "doc2vec_model = Doc2Vec(tagged_data, **params)\n",
        "training_time = time.time() - start_time\n",
        "\n",
        "print(f\"\\n✅ Training completed in {training_time:.2f} seconds.\")\n",
        "\n",
        "# --- Store model and training time ---\n",
        "doc2vec_model.save(\"doc2vec_text8.model\")\n",
        "with open(\"training_time.txt\", \"w\") as f:\n",
        "    f.write(f\"{training_time:.2f} seconds\")\n",
        "\n",
        "print(\"\\nModel and training time saved successfully!\")"
      ],
      "execution_count": 42,
      "outputs": [
        {
          "output_type": "stream",
          "name": "stdout",
          "text": [
            "\n",
            "✅ Training completed in 315.78 seconds.\n",
            "\n",
            "Model and training time saved successfully!\n"
          ]
        }
      ]
    },
    {
      "cell_type": "markdown",
      "metadata": {
        "id": "gCqY7VFOwsK9"
      },
      "source": [
        "### **Question 7 (Doc2Vec qualitative evaluation)**\n",
        "Perform some **qualitative** experiments by computing the cosine similarities between sentences composed by yourself.\n",
        "For example, you can use the following sentences:\n",
        "\n",
        "```python\n",
        "s1 = \"The president of the United States is Donald Trump\"\n",
        "s2 = \"The president of the United States is Joe Biden\"\n",
        "s3 = \"United States is a country\"\n",
        "s4 = \"The cell phone is a device\"\n",
        "```\n",
        "\n",
        "Please try to interact with the model by providing different sentences and check the results. Is the model able to capture the semantic meaning of the sentences? Are you satisfied with the results?"
      ]
    },
    {
      "cell_type": "code",
      "source": [
        "s1 = \"The president of the United States is Donald Trump\"\n",
        "s2 = \"The president of the United States is Joe Biden\"\n",
        "s3 = \"United States is a country\"\n",
        "s4 = \"The cell phone is a device\"\n",
        "\n",
        "sentences = [s1, s2, s3, s4, \"I love eating pizza\"]\n",
        "\n",
        "# Tokenize sentences\n",
        "tokenized_sentences = [s.lower().split() for s in sentences]\n",
        "\n"
      ],
      "metadata": {
        "id": "J3Io0wWRDktF"
      },
      "execution_count": 44,
      "outputs": []
    },
    {
      "cell_type": "code",
      "source": [
        "tokenized_sentences[0]"
      ],
      "metadata": {
        "colab": {
          "base_uri": "https://localhost:8080/"
        },
        "id": "Kgs3dMLGUlAp",
        "outputId": "d35cc1fc-de60-439e-e027-70f31978c22e"
      },
      "execution_count": 47,
      "outputs": [
        {
          "output_type": "execute_result",
          "data": {
            "text/plain": [
              "['the', 'president', 'of', 'the', 'united', 'states', 'is', 'donald', 'trump']"
            ]
          },
          "metadata": {},
          "execution_count": 47
        }
      ]
    },
    {
      "cell_type": "code",
      "source": [
        "# Compute embeddings using infer_vector\n",
        "sentence_vectors = [doc2vec_model.infer_vector(tokens) for tokens in tokenized_sentences]  # tokens is a list of string"
      ],
      "metadata": {
        "id": "T5ggY0CIUsvE"
      },
      "execution_count": 49,
      "outputs": []
    },
    {
      "cell_type": "code",
      "source": [
        "type(sentence_vectors), len(sentence_vectors), sentence_vectors[0]"
      ],
      "metadata": {
        "colab": {
          "base_uri": "https://localhost:8080/"
        },
        "id": "C2efsSsuVCkw",
        "outputId": "dd6c6b8c-5c3d-4a8f-d92c-8df998fa3b29"
      },
      "execution_count": 55,
      "outputs": [
        {
          "output_type": "execute_result",
          "data": {
            "text/plain": [
              "(list,\n",
              " 5,\n",
              " array([-0.07011464, -0.02384174, -0.01650893, -0.01788367, -0.01315612,\n",
              "        -0.08039293,  0.01192861,  0.04928732,  0.04888473,  0.04247653,\n",
              "        -0.01953345, -0.07276103,  0.00525262, -0.00095218,  0.00383172,\n",
              "        -0.17174438, -0.00244455,  0.04429134,  0.02908824, -0.01924216,\n",
              "        -0.02298632, -0.0171893 , -0.02812737,  0.00239561, -0.02214707,\n",
              "         0.04351545, -0.02495292,  0.02746939,  0.06938585, -0.023519  ,\n",
              "         0.01564159, -0.0225121 , -0.05348649,  0.01414427, -0.05161237,\n",
              "         0.02597961,  0.02302339,  0.05740812, -0.04849053, -0.10878731,\n",
              "         0.03447248,  0.01261412,  0.0489866 , -0.06500457, -0.05454819,\n",
              "         0.01369612,  0.05463054,  0.0590937 ,  0.00231931, -0.05295352,\n",
              "         0.00482217, -0.0219288 ,  0.0222112 , -0.06215452, -0.00994387,\n",
              "         0.07463907,  0.0242512 ,  0.06850968, -0.04577455, -0.04118698,\n",
              "        -0.01237703,  0.09592188,  0.03604743, -0.0523212 ,  0.0571046 ,\n",
              "        -0.08112856, -0.077112  , -0.0545212 , -0.041961  ,  0.0461387 ,\n",
              "        -0.04451074,  0.04399313,  0.03611308,  0.11287205,  0.06170949,\n",
              "         0.03531647,  0.07807542, -0.0226878 , -0.06399632, -0.01932934,\n",
              "        -0.0138278 , -0.04200046, -0.04544408,  0.02343532, -0.10119085,\n",
              "         0.03415727, -0.04225525,  0.06503782,  0.01993288,  0.02829864,\n",
              "        -0.00232065,  0.0255773 , -0.02042462,  0.0250004 , -0.01126348,\n",
              "         0.09929021,  0.00165876, -0.02801348,  0.04816483, -0.00863241],\n",
              "       dtype=float32))"
            ]
          },
          "metadata": {},
          "execution_count": 55
        }
      ]
    },
    {
      "cell_type": "code",
      "source": [
        "import numpy as np\n",
        "def cosine_similarity(v1, v2):\n",
        "  return np.dot(v1, v2) / np.linalg.norm(v1) / np.linalg.norm(v2)\n",
        "\n",
        "for sentence_vector in sentence_vectors[1:]: # exclude first\n",
        "  print(cosine_similarity(sentence_vectors[0], sentence_vector))\n",
        "\n"
      ],
      "metadata": {
        "colab": {
          "base_uri": "https://localhost:8080/"
        },
        "id": "9ZU3bBJZVXYt",
        "outputId": "7dea36e5-17c0-48ec-c2db-336fabd54919"
      },
      "execution_count": 58,
      "outputs": [
        {
          "output_type": "stream",
          "name": "stdout",
          "text": [
            "0.59613466\n",
            "0.58729553\n",
            "0.6417819\n",
            "0.56600237\n"
          ]
        }
      ]
    },
    {
      "cell_type": "markdown",
      "source": [
        "PRETTY BAD!"
      ],
      "metadata": {
        "id": "Lqf_6vW3cZQi"
      }
    },
    {
      "cell_type": "markdown",
      "source": [
        "### **Question 8**\n",
        "\n",
        "Load the InferSent model provided by Facebook Research ([reference](https://github.com/facebookresearch/InferSent)) and perform the same qualitative evaluation done in Question 7. In this case, you can use the InferSent pretrained model (v2) - [reference](https://github.com/facebookresearch/InferSent).\n",
        "\n",
        "Try to find some sentences for which InferSent is able to capture the semantic meaning of the sentences as opposed to Doc2Vec. Are you satisfied with the results? Which model is able to better capture the semantic meaning of the sentences? What can be the reason for this?\n",
        "\n",
        "**Note:**\n",
        "Please find below the code to download the InferSent model."
      ],
      "metadata": {
        "id": "svIaGwtADYGF"
      }
    },
    {
      "cell_type": "code",
      "metadata": {
        "id": "JCIQ1EEUYEwk"
      },
      "source": [
        "%%capture\n",
        "# InferSent download required files\n",
        "\n",
        "! mkdir fastText\n",
        "! curl -Lo fastText/crawl-300d-2M.vec.zip https://dl.fbaipublicfiles.com/fasttext/vectors-english/crawl-300d-2M.vec.zip\n",
        "! unzip fastText/crawl-300d-2M.vec.zip -d fastText/\n",
        "! mkdir encoder\n",
        "! curl -Lo encoder/infersent2.pkl https://dl.fbaipublicfiles.com/infersent/infersent2.pkl\n",
        "! git clone https://github.com/facebookresearch/InferSent.git"
      ],
      "execution_count": null,
      "outputs": []
    },
    {
      "cell_type": "code",
      "metadata": {
        "id": "QmtxnnC0Y9Cb"
      },
      "source": [
        "from InferSent.models import InferSent\n",
        "import torch\n",
        "V = 2\n",
        "MODEL_PATH = 'encoder/infersent%s.pkl' % V\n",
        "params_model = {'bsize': 64, 'word_emb_dim': 300, 'enc_lstm_dim': 2048,\n",
        "                'pool_type': 'max', 'dpout_model': 0.0, 'version': V}\n",
        "infersent = InferSent(params_model)\n",
        "infersent.load_state_dict(torch.load(MODEL_PATH))\n",
        "\n",
        "W2V_PATH = 'fastText/crawl-300d-2M.vec'\n",
        "infersent.set_w2v_path(W2V_PATH)"
      ],
      "execution_count": null,
      "outputs": []
    },
    {
      "cell_type": "markdown",
      "source": [
        "**Note:** Due to compatibility issues between newer NumPy versions and InferSent, you may encounter the following error when calling the `encode` method of the InferSent object:\n",
        "> ValueError: setting an array element with a sequence...\n",
        "\n",
        "If this occurs, you can fix it as follows:\n",
        "- Restart the session\n",
        "- Before loading the InferSent class, modify the `models.py` file in the InferSent folder by replacing line 207 with `sentences = np.array(sentences, dtype=object)[idx_sort]`"
      ],
      "metadata": {
        "id": "h8PGHrcf4r86"
      }
    },
    {
      "cell_type": "code",
      "metadata": {
        "id": "D6Pp5_doFcZs"
      },
      "source": [
        "# your code here"
      ],
      "execution_count": null,
      "outputs": []
    },
    {
      "cell_type": "markdown",
      "metadata": {
        "id": "OBqLp1LnTeME"
      },
      "source": [
        "### **Question 9** (Extrinsic Evaluation)\n",
        "\n",
        "**Extrinsic** evaluation aims at measuring the performance of the word/sentence/paragraph embedding model when used in a downstream task. In this case, we will use the model to perform a text classification task.\n",
        "We can use different configuration, training corpora or even different models to build a complete architecture for the task at hand.\n",
        "\n",
        "For this practice we use the text classification dataset available [here](https://github.com/MorenoLaQuatra/DeepNLP/blob/main/practices/P2/news_headline_classification.csv) - [source: Kaggle](https://www.kaggle.com/rmisra/news-category-dataset). It contains news headlines and the corresponding category. The dataset is composed by 200846 divided into multiple categories (e.g. politics, business, sports, etc.).\n",
        "\n",
        "**Note:** consider using just the first 10.000 headlines to reduce runtime during the lab. You can use the complete data collection at home to achieve better results.\n",
        "\n",
        "Compute the accuracy of 3 classification models each one built with one of the models introduced in this practice:\n",
        "- Word2Vec model pretrained on Google News corpus\n",
        "- FastText model pretrained on Wikipedia+News corpus\n",
        "- **[Optional]** Doc2Vec model pretrained on Text8 corpus\n",
        "- **[Optional]** InferSent pretrained model (v2) - [reference](https://github.com/facebookresearch/InferSent)\n",
        "\n",
        "The procedure to create a classification system is sketched below:\n",
        "1. Choose a machine learning (multi-class) classifier (e.g., MLP)\n",
        "2. Split the data collection in train/test (80%/20%)\n",
        "3. Use text vectors obtained by pretrained model as input of the classifier\n",
        "4. Measure the accuracy of the classification system\n",
        "5. Repeat step 3-4 using different embedding models\n",
        "\n",
        "\n",
        "**Note:** For word embedding models you must use an aggregation strategy to obtain a single vector for each sentence. You can use the average of the word vectors or the sum of the word vectors. In both cases, the output vector can be used as input of the classifier.\n",
        "\n",
        "Report the performance of each classification pipeline. Which model has better performance? Why? Try to elaborate on the results."
      ]
    },
    {
      "cell_type": "code",
      "metadata": {
        "id": "qp2k7npVeoTB"
      },
      "source": [
        "!wget https://raw.githubusercontent.com/MorenoLaQuatra/DeepNLP/main/practices/P2/news_headline_classification.csv"
      ],
      "execution_count": null,
      "outputs": []
    },
    {
      "cell_type": "code",
      "metadata": {
        "id": "R-jdTBgZgICi",
        "colab": {
          "base_uri": "https://localhost:8080/"
        },
        "outputId": "9539c0f1-7615-4b1b-e526-6e570d4a65ca"
      },
      "source": [
        "# Load dataset from URL\n",
        "url = \"https://raw.githubusercontent.com/MorenoLaQuatra/DeepNLP/main/practices/P2/news_headline_classification.csv\"\n",
        "df = pd.read_csv(url)\n",
        "\n",
        "# Keep first 10,000 rows for the lab\n",
        "df = df.iloc[:10000]\n",
        "\n",
        "# Quick look\n",
        "print(df.head())\n",
        "print(df['category'].value_counts())"
      ],
      "execution_count": 59,
      "outputs": [
        {
          "output_type": "stream",
          "name": "stdout",
          "text": [
            "   Unnamed: 0       category  \\\n",
            "0           0          CRIME   \n",
            "1           1  ENTERTAINMENT   \n",
            "2           2  ENTERTAINMENT   \n",
            "3           3  ENTERTAINMENT   \n",
            "4           4  ENTERTAINMENT   \n",
            "\n",
            "                                            headline  \n",
            "0  There Were 2 Mass Shootings In Texas Last Week...  \n",
            "1  Will Smith Joins Diplo And Nicky Jam For The 2...  \n",
            "2    Hugh Grant Marries For The First Time At Age 57  \n",
            "3  Jim Carrey Blasts 'Castrato' Adam Schiff And D...  \n",
            "4  Julianna Margulies Uses Donald Trump Poop Bags...  \n",
            "category\n",
            "POLITICS          3604\n",
            "ENTERTAINMENT     1906\n",
            "WORLD NEWS         683\n",
            "QUEER VOICES       512\n",
            "COMEDY             495\n",
            "BLACK VOICES       443\n",
            "SPORTS             382\n",
            "MEDIA              329\n",
            "WOMEN              283\n",
            "WEIRD NEWS         242\n",
            "CRIME              201\n",
            "BUSINESS           112\n",
            "LATINO VOICES      105\n",
            "IMPACT              86\n",
            "TRAVEL              76\n",
            "RELIGION            76\n",
            "STYLE               70\n",
            "PARENTS             66\n",
            "GREEN               66\n",
            "TECH                65\n",
            "HEALTHY LIVING      51\n",
            "SCIENCE             46\n",
            "EDUCATION           39\n",
            "TASTE               33\n",
            "ARTS & CULTURE      26\n",
            "COLLEGE              3\n",
            "Name: count, dtype: int64\n"
          ]
        }
      ]
    },
    {
      "cell_type": "code",
      "source": [
        "def preprocess(text):\n",
        "    return text.lower().split()  # simple tokenization by whitespaces. TODO: use a better tokenization if available\n",
        "\n",
        "df['tokens'] = df['headline'].apply(preprocess)"
      ],
      "metadata": {
        "id": "THkhEgtLahUd"
      },
      "execution_count": 60,
      "outputs": []
    },
    {
      "cell_type": "code",
      "source": [
        "df.head()"
      ],
      "metadata": {
        "colab": {
          "base_uri": "https://localhost:8080/",
          "height": 206
        },
        "id": "k1UZb6kfanCa",
        "outputId": "52fae30b-22c8-4491-9113-a68895364d4f"
      },
      "execution_count": 61,
      "outputs": [
        {
          "output_type": "execute_result",
          "data": {
            "text/plain": [
              "   Unnamed: 0       category  \\\n",
              "0           0          CRIME   \n",
              "1           1  ENTERTAINMENT   \n",
              "2           2  ENTERTAINMENT   \n",
              "3           3  ENTERTAINMENT   \n",
              "4           4  ENTERTAINMENT   \n",
              "\n",
              "                                            headline  \\\n",
              "0  There Were 2 Mass Shootings In Texas Last Week...   \n",
              "1  Will Smith Joins Diplo And Nicky Jam For The 2...   \n",
              "2    Hugh Grant Marries For The First Time At Age 57   \n",
              "3  Jim Carrey Blasts 'Castrato' Adam Schiff And D...   \n",
              "4  Julianna Margulies Uses Donald Trump Poop Bags...   \n",
              "\n",
              "                                              tokens  \n",
              "0  [there, were, 2, mass, shootings, in, texas, l...  \n",
              "1  [will, smith, joins, diplo, and, nicky, jam, f...  \n",
              "2  [hugh, grant, marries, for, the, first, time, ...  \n",
              "3  [jim, carrey, blasts, 'castrato', adam, schiff...  \n",
              "4  [julianna, margulies, uses, donald, trump, poo...  "
            ],
            "text/html": [
              "\n",
              "  <div id=\"df-4a9a2194-da7e-48f9-b316-b03e2baa631f\" class=\"colab-df-container\">\n",
              "    <div>\n",
              "<style scoped>\n",
              "    .dataframe tbody tr th:only-of-type {\n",
              "        vertical-align: middle;\n",
              "    }\n",
              "\n",
              "    .dataframe tbody tr th {\n",
              "        vertical-align: top;\n",
              "    }\n",
              "\n",
              "    .dataframe thead th {\n",
              "        text-align: right;\n",
              "    }\n",
              "</style>\n",
              "<table border=\"1\" class=\"dataframe\">\n",
              "  <thead>\n",
              "    <tr style=\"text-align: right;\">\n",
              "      <th></th>\n",
              "      <th>Unnamed: 0</th>\n",
              "      <th>category</th>\n",
              "      <th>headline</th>\n",
              "      <th>tokens</th>\n",
              "    </tr>\n",
              "  </thead>\n",
              "  <tbody>\n",
              "    <tr>\n",
              "      <th>0</th>\n",
              "      <td>0</td>\n",
              "      <td>CRIME</td>\n",
              "      <td>There Were 2 Mass Shootings In Texas Last Week...</td>\n",
              "      <td>[there, were, 2, mass, shootings, in, texas, l...</td>\n",
              "    </tr>\n",
              "    <tr>\n",
              "      <th>1</th>\n",
              "      <td>1</td>\n",
              "      <td>ENTERTAINMENT</td>\n",
              "      <td>Will Smith Joins Diplo And Nicky Jam For The 2...</td>\n",
              "      <td>[will, smith, joins, diplo, and, nicky, jam, f...</td>\n",
              "    </tr>\n",
              "    <tr>\n",
              "      <th>2</th>\n",
              "      <td>2</td>\n",
              "      <td>ENTERTAINMENT</td>\n",
              "      <td>Hugh Grant Marries For The First Time At Age 57</td>\n",
              "      <td>[hugh, grant, marries, for, the, first, time, ...</td>\n",
              "    </tr>\n",
              "    <tr>\n",
              "      <th>3</th>\n",
              "      <td>3</td>\n",
              "      <td>ENTERTAINMENT</td>\n",
              "      <td>Jim Carrey Blasts 'Castrato' Adam Schiff And D...</td>\n",
              "      <td>[jim, carrey, blasts, 'castrato', adam, schiff...</td>\n",
              "    </tr>\n",
              "    <tr>\n",
              "      <th>4</th>\n",
              "      <td>4</td>\n",
              "      <td>ENTERTAINMENT</td>\n",
              "      <td>Julianna Margulies Uses Donald Trump Poop Bags...</td>\n",
              "      <td>[julianna, margulies, uses, donald, trump, poo...</td>\n",
              "    </tr>\n",
              "  </tbody>\n",
              "</table>\n",
              "</div>\n",
              "    <div class=\"colab-df-buttons\">\n",
              "\n",
              "  <div class=\"colab-df-container\">\n",
              "    <button class=\"colab-df-convert\" onclick=\"convertToInteractive('df-4a9a2194-da7e-48f9-b316-b03e2baa631f')\"\n",
              "            title=\"Convert this dataframe to an interactive table.\"\n",
              "            style=\"display:none;\">\n",
              "\n",
              "  <svg xmlns=\"http://www.w3.org/2000/svg\" height=\"24px\" viewBox=\"0 -960 960 960\">\n",
              "    <path d=\"M120-120v-720h720v720H120Zm60-500h600v-160H180v160Zm220 220h160v-160H400v160Zm0 220h160v-160H400v160ZM180-400h160v-160H180v160Zm440 0h160v-160H620v160ZM180-180h160v-160H180v160Zm440 0h160v-160H620v160Z\"/>\n",
              "  </svg>\n",
              "    </button>\n",
              "\n",
              "  <style>\n",
              "    .colab-df-container {\n",
              "      display:flex;\n",
              "      gap: 12px;\n",
              "    }\n",
              "\n",
              "    .colab-df-convert {\n",
              "      background-color: #E8F0FE;\n",
              "      border: none;\n",
              "      border-radius: 50%;\n",
              "      cursor: pointer;\n",
              "      display: none;\n",
              "      fill: #1967D2;\n",
              "      height: 32px;\n",
              "      padding: 0 0 0 0;\n",
              "      width: 32px;\n",
              "    }\n",
              "\n",
              "    .colab-df-convert:hover {\n",
              "      background-color: #E2EBFA;\n",
              "      box-shadow: 0px 1px 2px rgba(60, 64, 67, 0.3), 0px 1px 3px 1px rgba(60, 64, 67, 0.15);\n",
              "      fill: #174EA6;\n",
              "    }\n",
              "\n",
              "    .colab-df-buttons div {\n",
              "      margin-bottom: 4px;\n",
              "    }\n",
              "\n",
              "    [theme=dark] .colab-df-convert {\n",
              "      background-color: #3B4455;\n",
              "      fill: #D2E3FC;\n",
              "    }\n",
              "\n",
              "    [theme=dark] .colab-df-convert:hover {\n",
              "      background-color: #434B5C;\n",
              "      box-shadow: 0px 1px 3px 1px rgba(0, 0, 0, 0.15);\n",
              "      filter: drop-shadow(0px 1px 2px rgba(0, 0, 0, 0.3));\n",
              "      fill: #FFFFFF;\n",
              "    }\n",
              "  </style>\n",
              "\n",
              "    <script>\n",
              "      const buttonEl =\n",
              "        document.querySelector('#df-4a9a2194-da7e-48f9-b316-b03e2baa631f button.colab-df-convert');\n",
              "      buttonEl.style.display =\n",
              "        google.colab.kernel.accessAllowed ? 'block' : 'none';\n",
              "\n",
              "      async function convertToInteractive(key) {\n",
              "        const element = document.querySelector('#df-4a9a2194-da7e-48f9-b316-b03e2baa631f');\n",
              "        const dataTable =\n",
              "          await google.colab.kernel.invokeFunction('convertToInteractive',\n",
              "                                                    [key], {});\n",
              "        if (!dataTable) return;\n",
              "\n",
              "        const docLinkHtml = 'Like what you see? Visit the ' +\n",
              "          '<a target=\"_blank\" href=https://colab.research.google.com/notebooks/data_table.ipynb>data table notebook</a>'\n",
              "          + ' to learn more about interactive tables.';\n",
              "        element.innerHTML = '';\n",
              "        dataTable['output_type'] = 'display_data';\n",
              "        await google.colab.output.renderOutput(dataTable, element);\n",
              "        const docLink = document.createElement('div');\n",
              "        docLink.innerHTML = docLinkHtml;\n",
              "        element.appendChild(docLink);\n",
              "      }\n",
              "    </script>\n",
              "  </div>\n",
              "\n",
              "\n",
              "    <div id=\"df-740806df-48b4-4683-92e3-815016948428\">\n",
              "      <button class=\"colab-df-quickchart\" onclick=\"quickchart('df-740806df-48b4-4683-92e3-815016948428')\"\n",
              "                title=\"Suggest charts\"\n",
              "                style=\"display:none;\">\n",
              "\n",
              "<svg xmlns=\"http://www.w3.org/2000/svg\" height=\"24px\"viewBox=\"0 0 24 24\"\n",
              "     width=\"24px\">\n",
              "    <g>\n",
              "        <path d=\"M19 3H5c-1.1 0-2 .9-2 2v14c0 1.1.9 2 2 2h14c1.1 0 2-.9 2-2V5c0-1.1-.9-2-2-2zM9 17H7v-7h2v7zm4 0h-2V7h2v10zm4 0h-2v-4h2v4z\"/>\n",
              "    </g>\n",
              "</svg>\n",
              "      </button>\n",
              "\n",
              "<style>\n",
              "  .colab-df-quickchart {\n",
              "      --bg-color: #E8F0FE;\n",
              "      --fill-color: #1967D2;\n",
              "      --hover-bg-color: #E2EBFA;\n",
              "      --hover-fill-color: #174EA6;\n",
              "      --disabled-fill-color: #AAA;\n",
              "      --disabled-bg-color: #DDD;\n",
              "  }\n",
              "\n",
              "  [theme=dark] .colab-df-quickchart {\n",
              "      --bg-color: #3B4455;\n",
              "      --fill-color: #D2E3FC;\n",
              "      --hover-bg-color: #434B5C;\n",
              "      --hover-fill-color: #FFFFFF;\n",
              "      --disabled-bg-color: #3B4455;\n",
              "      --disabled-fill-color: #666;\n",
              "  }\n",
              "\n",
              "  .colab-df-quickchart {\n",
              "    background-color: var(--bg-color);\n",
              "    border: none;\n",
              "    border-radius: 50%;\n",
              "    cursor: pointer;\n",
              "    display: none;\n",
              "    fill: var(--fill-color);\n",
              "    height: 32px;\n",
              "    padding: 0;\n",
              "    width: 32px;\n",
              "  }\n",
              "\n",
              "  .colab-df-quickchart:hover {\n",
              "    background-color: var(--hover-bg-color);\n",
              "    box-shadow: 0 1px 2px rgba(60, 64, 67, 0.3), 0 1px 3px 1px rgba(60, 64, 67, 0.15);\n",
              "    fill: var(--button-hover-fill-color);\n",
              "  }\n",
              "\n",
              "  .colab-df-quickchart-complete:disabled,\n",
              "  .colab-df-quickchart-complete:disabled:hover {\n",
              "    background-color: var(--disabled-bg-color);\n",
              "    fill: var(--disabled-fill-color);\n",
              "    box-shadow: none;\n",
              "  }\n",
              "\n",
              "  .colab-df-spinner {\n",
              "    border: 2px solid var(--fill-color);\n",
              "    border-color: transparent;\n",
              "    border-bottom-color: var(--fill-color);\n",
              "    animation:\n",
              "      spin 1s steps(1) infinite;\n",
              "  }\n",
              "\n",
              "  @keyframes spin {\n",
              "    0% {\n",
              "      border-color: transparent;\n",
              "      border-bottom-color: var(--fill-color);\n",
              "      border-left-color: var(--fill-color);\n",
              "    }\n",
              "    20% {\n",
              "      border-color: transparent;\n",
              "      border-left-color: var(--fill-color);\n",
              "      border-top-color: var(--fill-color);\n",
              "    }\n",
              "    30% {\n",
              "      border-color: transparent;\n",
              "      border-left-color: var(--fill-color);\n",
              "      border-top-color: var(--fill-color);\n",
              "      border-right-color: var(--fill-color);\n",
              "    }\n",
              "    40% {\n",
              "      border-color: transparent;\n",
              "      border-right-color: var(--fill-color);\n",
              "      border-top-color: var(--fill-color);\n",
              "    }\n",
              "    60% {\n",
              "      border-color: transparent;\n",
              "      border-right-color: var(--fill-color);\n",
              "    }\n",
              "    80% {\n",
              "      border-color: transparent;\n",
              "      border-right-color: var(--fill-color);\n",
              "      border-bottom-color: var(--fill-color);\n",
              "    }\n",
              "    90% {\n",
              "      border-color: transparent;\n",
              "      border-bottom-color: var(--fill-color);\n",
              "    }\n",
              "  }\n",
              "</style>\n",
              "\n",
              "      <script>\n",
              "        async function quickchart(key) {\n",
              "          const quickchartButtonEl =\n",
              "            document.querySelector('#' + key + ' button');\n",
              "          quickchartButtonEl.disabled = true;  // To prevent multiple clicks.\n",
              "          quickchartButtonEl.classList.add('colab-df-spinner');\n",
              "          try {\n",
              "            const charts = await google.colab.kernel.invokeFunction(\n",
              "                'suggestCharts', [key], {});\n",
              "          } catch (error) {\n",
              "            console.error('Error during call to suggestCharts:', error);\n",
              "          }\n",
              "          quickchartButtonEl.classList.remove('colab-df-spinner');\n",
              "          quickchartButtonEl.classList.add('colab-df-quickchart-complete');\n",
              "        }\n",
              "        (() => {\n",
              "          let quickchartButtonEl =\n",
              "            document.querySelector('#df-740806df-48b4-4683-92e3-815016948428 button');\n",
              "          quickchartButtonEl.style.display =\n",
              "            google.colab.kernel.accessAllowed ? 'block' : 'none';\n",
              "        })();\n",
              "      </script>\n",
              "    </div>\n",
              "\n",
              "    </div>\n",
              "  </div>\n"
            ],
            "application/vnd.google.colaboratory.intrinsic+json": {
              "type": "dataframe",
              "variable_name": "df",
              "summary": "{\n  \"name\": \"df\",\n  \"rows\": 10000,\n  \"fields\": [\n    {\n      \"column\": \"Unnamed: 0\",\n      \"properties\": {\n        \"dtype\": \"number\",\n        \"std\": 2886,\n        \"min\": 0,\n        \"max\": 9999,\n        \"num_unique_values\": 10000,\n        \"samples\": [\n          6252,\n          4684,\n          1731\n        ],\n        \"semantic_type\": \"\",\n        \"description\": \"\"\n      }\n    },\n    {\n      \"column\": \"category\",\n      \"properties\": {\n        \"dtype\": \"category\",\n        \"num_unique_values\": 26,\n        \"samples\": [\n          \"COMEDY\",\n          \"SCIENCE\",\n          \"CRIME\"\n        ],\n        \"semantic_type\": \"\",\n        \"description\": \"\"\n      }\n    },\n    {\n      \"column\": \"headline\",\n      \"properties\": {\n        \"dtype\": \"string\",\n        \"num_unique_values\": 9958,\n        \"samples\": [\n          \"'Love, Simon' Star Nick Robinson Says Brother Came Out During Filming\",\n          \"Three Billboards Outside Cleveland, Ohio, Want LeBron James To Move\",\n          \"Second Girl Sentenced For 'Slender Man' Stabbing\"\n        ],\n        \"semantic_type\": \"\",\n        \"description\": \"\"\n      }\n    },\n    {\n      \"column\": \"tokens\",\n      \"properties\": {\n        \"dtype\": \"object\",\n        \"semantic_type\": \"\",\n        \"description\": \"\"\n      }\n    }\n  ]\n}"
            }
          },
          "metadata": {},
          "execution_count": 61
        }
      ]
    },
    {
      "cell_type": "markdown",
      "metadata": {
        "id": "9VBbEBO6xmEL"
      },
      "source": [
        "**Word2Vec + Average aggregation function**"
      ]
    },
    {
      "cell_type": "code",
      "metadata": {
        "id": "fUM1WOMqgC7b",
        "colab": {
          "base_uri": "https://localhost:8080/",
          "height": 310
        },
        "outputId": "8c6e8cf6-777c-4108-b140-b152e9dddabd"
      },
      "source": [
        "def sentence_vector(tokens, model):\n",
        "    \"\"\"\n",
        "    Compute sentence vector as average of word vectors\n",
        "    \"\"\"\n",
        "    vectors = []\n",
        "\n",
        "    # Check if model is KeyedVectors or Word2Vec\n",
        "    if hasattr(model, 'wv'):\n",
        "        vectors_model = model.wv\n",
        "    else:\n",
        "        vectors_model = model\n",
        "\n",
        "    for word in tokens:\n",
        "        if word in vectors_model.key_to_index:\n",
        "            vectors.append(vectors_model[word])\n",
        "\n",
        "    if len(vectors) > 0:\n",
        "        return np.mean(vectors, axis=0)  # average embeddings for each token in the sentence\n",
        "    else:\n",
        "        raise ValueError(f\"No word vectors found for tokens: {tokens}\")\n",
        "\n",
        "# Assuming w2v_google_news_model is already loaded\n",
        "df['w2v_vector'] = df['tokens'].apply(lambda x: sentence_vector(x, w2v_google_news_model))\n",
        "\n",
        "df.head()"
      ],
      "execution_count": 63,
      "outputs": [
        {
          "output_type": "execute_result",
          "data": {
            "text/plain": [
              "   Unnamed: 0       category  \\\n",
              "0           0          CRIME   \n",
              "1           1  ENTERTAINMENT   \n",
              "2           2  ENTERTAINMENT   \n",
              "3           3  ENTERTAINMENT   \n",
              "4           4  ENTERTAINMENT   \n",
              "\n",
              "                                            headline  \\\n",
              "0  There Were 2 Mass Shootings In Texas Last Week...   \n",
              "1  Will Smith Joins Diplo And Nicky Jam For The 2...   \n",
              "2    Hugh Grant Marries For The First Time At Age 57   \n",
              "3  Jim Carrey Blasts 'Castrato' Adam Schiff And D...   \n",
              "4  Julianna Margulies Uses Donald Trump Poop Bags...   \n",
              "\n",
              "                                              tokens  \\\n",
              "0  [there, were, 2, mass, shootings, in, texas, l...   \n",
              "1  [will, smith, joins, diplo, and, nicky, jam, f...   \n",
              "2  [hugh, grant, marries, for, the, first, time, ...   \n",
              "3  [jim, carrey, blasts, 'castrato', adam, schiff...   \n",
              "4  [julianna, margulies, uses, donald, trump, poo...   \n",
              "\n",
              "                                          w2v_vector  \n",
              "0  [0.006882888, -0.019878682, 0.06519993, 0.0732...  \n",
              "1  [0.0009543679, 0.03844105, 0.058582652, 0.0953...  \n",
              "2  [0.04625787, 0.042371962, -0.024556478, 0.0947...  \n",
              "3  [0.025887625, 0.040213447, -0.010271345, 0.126...  \n",
              "4  [0.080883786, 0.064416505, 0.041757204, 0.1413...  "
            ],
            "text/html": [
              "\n",
              "  <div id=\"df-9e1b6b28-709c-4265-bf8c-33b2fab2121a\" class=\"colab-df-container\">\n",
              "    <div>\n",
              "<style scoped>\n",
              "    .dataframe tbody tr th:only-of-type {\n",
              "        vertical-align: middle;\n",
              "    }\n",
              "\n",
              "    .dataframe tbody tr th {\n",
              "        vertical-align: top;\n",
              "    }\n",
              "\n",
              "    .dataframe thead th {\n",
              "        text-align: right;\n",
              "    }\n",
              "</style>\n",
              "<table border=\"1\" class=\"dataframe\">\n",
              "  <thead>\n",
              "    <tr style=\"text-align: right;\">\n",
              "      <th></th>\n",
              "      <th>Unnamed: 0</th>\n",
              "      <th>category</th>\n",
              "      <th>headline</th>\n",
              "      <th>tokens</th>\n",
              "      <th>w2v_vector</th>\n",
              "    </tr>\n",
              "  </thead>\n",
              "  <tbody>\n",
              "    <tr>\n",
              "      <th>0</th>\n",
              "      <td>0</td>\n",
              "      <td>CRIME</td>\n",
              "      <td>There Were 2 Mass Shootings In Texas Last Week...</td>\n",
              "      <td>[there, were, 2, mass, shootings, in, texas, l...</td>\n",
              "      <td>[0.006882888, -0.019878682, 0.06519993, 0.0732...</td>\n",
              "    </tr>\n",
              "    <tr>\n",
              "      <th>1</th>\n",
              "      <td>1</td>\n",
              "      <td>ENTERTAINMENT</td>\n",
              "      <td>Will Smith Joins Diplo And Nicky Jam For The 2...</td>\n",
              "      <td>[will, smith, joins, diplo, and, nicky, jam, f...</td>\n",
              "      <td>[0.0009543679, 0.03844105, 0.058582652, 0.0953...</td>\n",
              "    </tr>\n",
              "    <tr>\n",
              "      <th>2</th>\n",
              "      <td>2</td>\n",
              "      <td>ENTERTAINMENT</td>\n",
              "      <td>Hugh Grant Marries For The First Time At Age 57</td>\n",
              "      <td>[hugh, grant, marries, for, the, first, time, ...</td>\n",
              "      <td>[0.04625787, 0.042371962, -0.024556478, 0.0947...</td>\n",
              "    </tr>\n",
              "    <tr>\n",
              "      <th>3</th>\n",
              "      <td>3</td>\n",
              "      <td>ENTERTAINMENT</td>\n",
              "      <td>Jim Carrey Blasts 'Castrato' Adam Schiff And D...</td>\n",
              "      <td>[jim, carrey, blasts, 'castrato', adam, schiff...</td>\n",
              "      <td>[0.025887625, 0.040213447, -0.010271345, 0.126...</td>\n",
              "    </tr>\n",
              "    <tr>\n",
              "      <th>4</th>\n",
              "      <td>4</td>\n",
              "      <td>ENTERTAINMENT</td>\n",
              "      <td>Julianna Margulies Uses Donald Trump Poop Bags...</td>\n",
              "      <td>[julianna, margulies, uses, donald, trump, poo...</td>\n",
              "      <td>[0.080883786, 0.064416505, 0.041757204, 0.1413...</td>\n",
              "    </tr>\n",
              "  </tbody>\n",
              "</table>\n",
              "</div>\n",
              "    <div class=\"colab-df-buttons\">\n",
              "\n",
              "  <div class=\"colab-df-container\">\n",
              "    <button class=\"colab-df-convert\" onclick=\"convertToInteractive('df-9e1b6b28-709c-4265-bf8c-33b2fab2121a')\"\n",
              "            title=\"Convert this dataframe to an interactive table.\"\n",
              "            style=\"display:none;\">\n",
              "\n",
              "  <svg xmlns=\"http://www.w3.org/2000/svg\" height=\"24px\" viewBox=\"0 -960 960 960\">\n",
              "    <path d=\"M120-120v-720h720v720H120Zm60-500h600v-160H180v160Zm220 220h160v-160H400v160Zm0 220h160v-160H400v160ZM180-400h160v-160H180v160Zm440 0h160v-160H620v160ZM180-180h160v-160H180v160Zm440 0h160v-160H620v160Z\"/>\n",
              "  </svg>\n",
              "    </button>\n",
              "\n",
              "  <style>\n",
              "    .colab-df-container {\n",
              "      display:flex;\n",
              "      gap: 12px;\n",
              "    }\n",
              "\n",
              "    .colab-df-convert {\n",
              "      background-color: #E8F0FE;\n",
              "      border: none;\n",
              "      border-radius: 50%;\n",
              "      cursor: pointer;\n",
              "      display: none;\n",
              "      fill: #1967D2;\n",
              "      height: 32px;\n",
              "      padding: 0 0 0 0;\n",
              "      width: 32px;\n",
              "    }\n",
              "\n",
              "    .colab-df-convert:hover {\n",
              "      background-color: #E2EBFA;\n",
              "      box-shadow: 0px 1px 2px rgba(60, 64, 67, 0.3), 0px 1px 3px 1px rgba(60, 64, 67, 0.15);\n",
              "      fill: #174EA6;\n",
              "    }\n",
              "\n",
              "    .colab-df-buttons div {\n",
              "      margin-bottom: 4px;\n",
              "    }\n",
              "\n",
              "    [theme=dark] .colab-df-convert {\n",
              "      background-color: #3B4455;\n",
              "      fill: #D2E3FC;\n",
              "    }\n",
              "\n",
              "    [theme=dark] .colab-df-convert:hover {\n",
              "      background-color: #434B5C;\n",
              "      box-shadow: 0px 1px 3px 1px rgba(0, 0, 0, 0.15);\n",
              "      filter: drop-shadow(0px 1px 2px rgba(0, 0, 0, 0.3));\n",
              "      fill: #FFFFFF;\n",
              "    }\n",
              "  </style>\n",
              "\n",
              "    <script>\n",
              "      const buttonEl =\n",
              "        document.querySelector('#df-9e1b6b28-709c-4265-bf8c-33b2fab2121a button.colab-df-convert');\n",
              "      buttonEl.style.display =\n",
              "        google.colab.kernel.accessAllowed ? 'block' : 'none';\n",
              "\n",
              "      async function convertToInteractive(key) {\n",
              "        const element = document.querySelector('#df-9e1b6b28-709c-4265-bf8c-33b2fab2121a');\n",
              "        const dataTable =\n",
              "          await google.colab.kernel.invokeFunction('convertToInteractive',\n",
              "                                                    [key], {});\n",
              "        if (!dataTable) return;\n",
              "\n",
              "        const docLinkHtml = 'Like what you see? Visit the ' +\n",
              "          '<a target=\"_blank\" href=https://colab.research.google.com/notebooks/data_table.ipynb>data table notebook</a>'\n",
              "          + ' to learn more about interactive tables.';\n",
              "        element.innerHTML = '';\n",
              "        dataTable['output_type'] = 'display_data';\n",
              "        await google.colab.output.renderOutput(dataTable, element);\n",
              "        const docLink = document.createElement('div');\n",
              "        docLink.innerHTML = docLinkHtml;\n",
              "        element.appendChild(docLink);\n",
              "      }\n",
              "    </script>\n",
              "  </div>\n",
              "\n",
              "\n",
              "    <div id=\"df-b69e9352-40aa-46fe-be55-f5ba989de40b\">\n",
              "      <button class=\"colab-df-quickchart\" onclick=\"quickchart('df-b69e9352-40aa-46fe-be55-f5ba989de40b')\"\n",
              "                title=\"Suggest charts\"\n",
              "                style=\"display:none;\">\n",
              "\n",
              "<svg xmlns=\"http://www.w3.org/2000/svg\" height=\"24px\"viewBox=\"0 0 24 24\"\n",
              "     width=\"24px\">\n",
              "    <g>\n",
              "        <path d=\"M19 3H5c-1.1 0-2 .9-2 2v14c0 1.1.9 2 2 2h14c1.1 0 2-.9 2-2V5c0-1.1-.9-2-2-2zM9 17H7v-7h2v7zm4 0h-2V7h2v10zm4 0h-2v-4h2v4z\"/>\n",
              "    </g>\n",
              "</svg>\n",
              "      </button>\n",
              "\n",
              "<style>\n",
              "  .colab-df-quickchart {\n",
              "      --bg-color: #E8F0FE;\n",
              "      --fill-color: #1967D2;\n",
              "      --hover-bg-color: #E2EBFA;\n",
              "      --hover-fill-color: #174EA6;\n",
              "      --disabled-fill-color: #AAA;\n",
              "      --disabled-bg-color: #DDD;\n",
              "  }\n",
              "\n",
              "  [theme=dark] .colab-df-quickchart {\n",
              "      --bg-color: #3B4455;\n",
              "      --fill-color: #D2E3FC;\n",
              "      --hover-bg-color: #434B5C;\n",
              "      --hover-fill-color: #FFFFFF;\n",
              "      --disabled-bg-color: #3B4455;\n",
              "      --disabled-fill-color: #666;\n",
              "  }\n",
              "\n",
              "  .colab-df-quickchart {\n",
              "    background-color: var(--bg-color);\n",
              "    border: none;\n",
              "    border-radius: 50%;\n",
              "    cursor: pointer;\n",
              "    display: none;\n",
              "    fill: var(--fill-color);\n",
              "    height: 32px;\n",
              "    padding: 0;\n",
              "    width: 32px;\n",
              "  }\n",
              "\n",
              "  .colab-df-quickchart:hover {\n",
              "    background-color: var(--hover-bg-color);\n",
              "    box-shadow: 0 1px 2px rgba(60, 64, 67, 0.3), 0 1px 3px 1px rgba(60, 64, 67, 0.15);\n",
              "    fill: var(--button-hover-fill-color);\n",
              "  }\n",
              "\n",
              "  .colab-df-quickchart-complete:disabled,\n",
              "  .colab-df-quickchart-complete:disabled:hover {\n",
              "    background-color: var(--disabled-bg-color);\n",
              "    fill: var(--disabled-fill-color);\n",
              "    box-shadow: none;\n",
              "  }\n",
              "\n",
              "  .colab-df-spinner {\n",
              "    border: 2px solid var(--fill-color);\n",
              "    border-color: transparent;\n",
              "    border-bottom-color: var(--fill-color);\n",
              "    animation:\n",
              "      spin 1s steps(1) infinite;\n",
              "  }\n",
              "\n",
              "  @keyframes spin {\n",
              "    0% {\n",
              "      border-color: transparent;\n",
              "      border-bottom-color: var(--fill-color);\n",
              "      border-left-color: var(--fill-color);\n",
              "    }\n",
              "    20% {\n",
              "      border-color: transparent;\n",
              "      border-left-color: var(--fill-color);\n",
              "      border-top-color: var(--fill-color);\n",
              "    }\n",
              "    30% {\n",
              "      border-color: transparent;\n",
              "      border-left-color: var(--fill-color);\n",
              "      border-top-color: var(--fill-color);\n",
              "      border-right-color: var(--fill-color);\n",
              "    }\n",
              "    40% {\n",
              "      border-color: transparent;\n",
              "      border-right-color: var(--fill-color);\n",
              "      border-top-color: var(--fill-color);\n",
              "    }\n",
              "    60% {\n",
              "      border-color: transparent;\n",
              "      border-right-color: var(--fill-color);\n",
              "    }\n",
              "    80% {\n",
              "      border-color: transparent;\n",
              "      border-right-color: var(--fill-color);\n",
              "      border-bottom-color: var(--fill-color);\n",
              "    }\n",
              "    90% {\n",
              "      border-color: transparent;\n",
              "      border-bottom-color: var(--fill-color);\n",
              "    }\n",
              "  }\n",
              "</style>\n",
              "\n",
              "      <script>\n",
              "        async function quickchart(key) {\n",
              "          const quickchartButtonEl =\n",
              "            document.querySelector('#' + key + ' button');\n",
              "          quickchartButtonEl.disabled = true;  // To prevent multiple clicks.\n",
              "          quickchartButtonEl.classList.add('colab-df-spinner');\n",
              "          try {\n",
              "            const charts = await google.colab.kernel.invokeFunction(\n",
              "                'suggestCharts', [key], {});\n",
              "          } catch (error) {\n",
              "            console.error('Error during call to suggestCharts:', error);\n",
              "          }\n",
              "          quickchartButtonEl.classList.remove('colab-df-spinner');\n",
              "          quickchartButtonEl.classList.add('colab-df-quickchart-complete');\n",
              "        }\n",
              "        (() => {\n",
              "          let quickchartButtonEl =\n",
              "            document.querySelector('#df-b69e9352-40aa-46fe-be55-f5ba989de40b button');\n",
              "          quickchartButtonEl.style.display =\n",
              "            google.colab.kernel.accessAllowed ? 'block' : 'none';\n",
              "        })();\n",
              "      </script>\n",
              "    </div>\n",
              "\n",
              "    </div>\n",
              "  </div>\n"
            ],
            "application/vnd.google.colaboratory.intrinsic+json": {
              "type": "dataframe",
              "variable_name": "df",
              "summary": "{\n  \"name\": \"df\",\n  \"rows\": 10000,\n  \"fields\": [\n    {\n      \"column\": \"Unnamed: 0\",\n      \"properties\": {\n        \"dtype\": \"number\",\n        \"std\": 2886,\n        \"min\": 0,\n        \"max\": 9999,\n        \"num_unique_values\": 10000,\n        \"samples\": [\n          6252,\n          4684,\n          1731\n        ],\n        \"semantic_type\": \"\",\n        \"description\": \"\"\n      }\n    },\n    {\n      \"column\": \"category\",\n      \"properties\": {\n        \"dtype\": \"category\",\n        \"num_unique_values\": 26,\n        \"samples\": [\n          \"COMEDY\",\n          \"SCIENCE\",\n          \"CRIME\"\n        ],\n        \"semantic_type\": \"\",\n        \"description\": \"\"\n      }\n    },\n    {\n      \"column\": \"headline\",\n      \"properties\": {\n        \"dtype\": \"string\",\n        \"num_unique_values\": 9958,\n        \"samples\": [\n          \"'Love, Simon' Star Nick Robinson Says Brother Came Out During Filming\",\n          \"Three Billboards Outside Cleveland, Ohio, Want LeBron James To Move\",\n          \"Second Girl Sentenced For 'Slender Man' Stabbing\"\n        ],\n        \"semantic_type\": \"\",\n        \"description\": \"\"\n      }\n    },\n    {\n      \"column\": \"tokens\",\n      \"properties\": {\n        \"dtype\": \"object\",\n        \"semantic_type\": \"\",\n        \"description\": \"\"\n      }\n    },\n    {\n      \"column\": \"w2v_vector\",\n      \"properties\": {\n        \"dtype\": \"object\",\n        \"semantic_type\": \"\",\n        \"description\": \"\"\n      }\n    }\n  ]\n}"
            }
          },
          "metadata": {},
          "execution_count": 63
        }
      ]
    },
    {
      "cell_type": "code",
      "source": [
        "from sklearn.model_selection import train_test_split\n",
        "\n",
        "# Labels\n",
        "y = df['category']\n",
        "\n",
        "# Example for Word2Vec vectors\n",
        "X_w2v = np.vstack(df['w2v_vector'].values)  # convert list of arrays to 2D array\n",
        "\n",
        "X_train, X_test, y_train, y_test = train_test_split(X_w2v, y, test_size=0.2, random_state=42)\n"
      ],
      "metadata": {
        "id": "xF9fjAlZbrLl"
      },
      "execution_count": 64,
      "outputs": []
    },
    {
      "cell_type": "code",
      "source": [
        "from sklearn.neural_network import MLPClassifier\n",
        "from sklearn.metrics import accuracy_score\n",
        "\n",
        "# Define classifier\n",
        "clf = MLPClassifier(hidden_layer_sizes=(128,), max_iter=100, random_state=42)\n",
        "\n",
        "# Train\n",
        "clf.fit(X_train, y_train)\n",
        "\n",
        "# Predict\n",
        "y_pred = clf.predict(X_test)\n",
        "\n",
        "# Accuracy\n",
        "acc = accuracy_score(y_test, y_pred)\n",
        "print(f\"Word2Vec classification accuracy: {acc:.3f}\")\n"
      ],
      "metadata": {
        "colab": {
          "base_uri": "https://localhost:8080/"
        },
        "id": "XOU1oQzPbshn",
        "outputId": "3b3e87f8-b034-466c-e2e2-2125692706c5"
      },
      "execution_count": 66,
      "outputs": [
        {
          "output_type": "stream",
          "name": "stdout",
          "text": [
            "Word2Vec classification accuracy: 0.593\n"
          ]
        },
        {
          "output_type": "stream",
          "name": "stderr",
          "text": [
            "/usr/local/lib/python3.12/dist-packages/sklearn/neural_network/_multilayer_perceptron.py:691: ConvergenceWarning: Stochastic Optimizer: Maximum iterations (100) reached and the optimization hasn't converged yet.\n",
            "  warnings.warn(\n"
          ]
        }
      ]
    },
    {
      "cell_type": "markdown",
      "metadata": {
        "id": "kTLSmUJXxeId"
      },
      "source": [
        "**FastText + Average aggregation function**"
      ]
    },
    {
      "cell_type": "code",
      "metadata": {
        "id": "cFHh0MXGvzv2"
      },
      "source": [
        "# your code here"
      ],
      "execution_count": null,
      "outputs": []
    },
    {
      "cell_type": "markdown",
      "metadata": {
        "id": "mBjSrAx9xrON"
      },
      "source": [
        "**Doc2Vec (Text8)**"
      ]
    },
    {
      "cell_type": "code",
      "metadata": {
        "id": "iZM2QZA5x9ET"
      },
      "source": [
        "# your code here"
      ],
      "execution_count": null,
      "outputs": []
    },
    {
      "cell_type": "markdown",
      "metadata": {
        "id": "t7DkgKMcxrIy"
      },
      "source": [
        "**InferSent**"
      ]
    },
    {
      "cell_type": "code",
      "metadata": {
        "id": "M8RfB2NqrsCi"
      },
      "source": [
        "# your code here"
      ],
      "execution_count": null,
      "outputs": []
    }
  ]
}