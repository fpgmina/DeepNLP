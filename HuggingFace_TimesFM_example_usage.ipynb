{
  "nbformat": 4,
  "nbformat_minor": 0,
  "metadata": {
    "colab": {
      "provenance": [],
      "authorship_tag": "ABX9TyNsJhf+YUhwqKsPX7ykaoUU",
      "include_colab_link": true
    },
    "kernelspec": {
      "name": "python3",
      "display_name": "Python 3"
    },
    "language_info": {
      "name": "python"
    }
  },
  "cells": [
    {
      "cell_type": "markdown",
      "metadata": {
        "id": "view-in-github",
        "colab_type": "text"
      },
      "source": [
        "<a href=\"https://colab.research.google.com/github/fpgmina/DeepNLP/blob/main/HuggingFace_TimesFM_example_usage.ipynb\" target=\"_parent\"><img src=\"https://colab.research.google.com/assets/colab-badge.svg\" alt=\"Open In Colab\"/></a>"
      ]
    },
    {
      "cell_type": "markdown",
      "source": [
        "HuggingFace: https://huggingface.co/google/timesfm-2.5-200m-pytorch\n",
        "\n",
        "GitHub: https://github.com/google-research/timesfm"
      ],
      "metadata": {
        "id": "QtXg1l-1L2b1"
      }
    },
    {
      "cell_type": "code",
      "source": [
        "# 1. Install the timesfm library (Run this in a Colab cell)\n",
        "!pip install git+https://github.com/google-research/timesfm.git"
      ],
      "metadata": {
        "id": "_knQhWGUJY75"
      },
      "execution_count": null,
      "outputs": []
    },
    {
      "cell_type": "code",
      "source": [
        "import numpy as np\n",
        "import torch\n",
        "import timesfm\n",
        "import matplotlib.pyplot as plt"
      ],
      "metadata": {
        "id": "93YYPusnJci_"
      },
      "execution_count": null,
      "outputs": []
    },
    {
      "cell_type": "code",
      "execution_count": null,
      "metadata": {
        "id": "1oQRiPKJJVCv"
      },
      "outputs": [],
      "source": [
        "# 3. Load and Compile the Model (This may take a moment)\n",
        "torch.set_float32_matmul_precision(\"high\")\n",
        "model = timesfm.TimesFM_2p5_200M_torch.from_pretrained(\"google/timesfm-2.5-200m-pytorch\")\n",
        "\n",
        "# Define model configuration (use the standard defaults for a quick start)\n",
        "model.compile(\n",
        "    timesfm.ForecastConfig(\n",
        "        max_context=1024,\n",
        "        max_horizon=256,\n",
        "        normalize_inputs=True,\n",
        "    )\n",
        ")"
      ]
    },
    {
      "cell_type": "code",
      "source": [
        "# 4. Prepare Example Input Data\n",
        "# Use a numpy array of historical time series values\n",
        "# The model is univariate (one series at a time)\n",
        "historical_data_1 = np.linspace(0, 10, 100)  # Example 1: 100 context points\n",
        "historical_data_2 = np.sin(np.linspace(0, 20, 67)) # Example 2: 67 context points\n",
        "\n",
        "# 5. Make a Forecast\n",
        "horizon_steps = 12\n",
        "point_forecast, quantile_forecast = model.forecast(\n",
        "    horizon=horizon_steps,\n",
        "    inputs=[historical_data_1, historical_data_2] # Pass your series as a list\n",
        ")\n",
        "\n",
        "# Output shapes:\n",
        "# point_forecast.shape -> (2, 12)  # (Number of Series, Horizon)\n",
        "# quantile_forecast.shape -> (2, 12, 10) # (Series, Horizon, Quantiles)"
      ],
      "metadata": {
        "id": "JEaG1loMJ0VM"
      },
      "execution_count": null,
      "outputs": []
    },
    {
      "cell_type": "code",
      "source": [
        "point_forecast"
      ],
      "metadata": {
        "id": "Kw9WJ5dRJ5TF"
      },
      "execution_count": null,
      "outputs": []
    },
    {
      "cell_type": "markdown",
      "source": [
        "## Example Usage with Sine Function"
      ],
      "metadata": {
        "id": "3LiXm0e3Khtw"
      }
    },
    {
      "cell_type": "code",
      "source": [
        "# --- 1. Generate the Full Sine Wave Data ---\n",
        "# A common setup: 4 full cycles (e.g., 400 data points)\n",
        "n_cycles = 4\n",
        "n_points_per_cycle = 100\n",
        "n_total = n_cycles * n_points_per_cycle\n",
        "\n",
        "# Generate the true underlying sine series\n",
        "t = np.linspace(0, n_cycles * 2 * np.pi, n_total, endpoint=False)\n",
        "full_series = 10 * np.sin(t)\n",
        "\n",
        "# --- 2. Define Context (Input) and True Horizon (Ground Truth) ---\n",
        "context_len = 300  # Use the first 3 cycles/300 points as input\n",
        "horizon_len = 100  # Predict the last cycle/100 points\n",
        "\n",
        "historical_data = full_series[:context_len]\n",
        "true_future = full_series[context_len:context_len + horizon_len]\n",
        "\n",
        "# Note: TimesFM is designed for a minimum context of ~30 points.\n",
        "# Using a large context (300) gives it ample pattern data."
      ],
      "metadata": {
        "id": "7MJSCAMFKisb"
      },
      "execution_count": null,
      "outputs": []
    },
    {
      "cell_type": "code",
      "source": [
        "# (Assuming TimesFM library is installed and the model object 'model' is loaded and compiled)\n",
        "\n",
        "# Generate the forecast (TimesFM expects inputs as a list)\n",
        "point_forecast, _ = model.forecast(\n",
        "    horizon=horizon_len,\n",
        "    inputs=[historical_data]\n",
        ")\n",
        "\n",
        "# Extract the single point forecast array\n",
        "forecast_values = point_forecast[0]"
      ],
      "metadata": {
        "id": "5Pen-Ft3KjP2"
      },
      "execution_count": null,
      "outputs": []
    },
    {
      "cell_type": "code",
      "source": [],
      "metadata": {
        "id": "ZisXX8H0Kpyo"
      },
      "execution_count": null,
      "outputs": []
    },
    {
      "cell_type": "code",
      "source": [
        "mae = np.mean(np.abs(true_future - forecast_values))\n",
        "rmse = np.sqrt(np.mean((true_future - forecast_values)**2))\n",
        "\n",
        "print(f\"\\nMean Absolute Error (MAE): {mae:.4f}\")\n",
        "print(f\"Root Mean Squared Error (RMSE): {rmse:.4f}\")"
      ],
      "metadata": {
        "id": "uVe86RkpKq_i"
      },
      "execution_count": null,
      "outputs": []
    },
    {
      "cell_type": "code",
      "source": [
        "plt.figure(figsize=(12, 6))\n",
        "\n",
        "# Plot Historical Data\n",
        "plt.plot(range(context_len), historical_data, label='Historical Input', color='blue')\n",
        "\n",
        "# Plot True Future\n",
        "future_range = range(context_len, context_len + horizon_len)\n",
        "plt.plot(future_range, true_future, label='True Future (Ground Truth)', color='green', linestyle='--')\n",
        "\n",
        "# Plot Forecast\n",
        "plt.plot(future_range, forecast_values, label='TimesFM Forecast', color='red', linestyle='-', alpha=0.7)\n",
        "\n",
        "plt.axvline(x=context_len, color='gray', linestyle=':', label='Forecast Start')\n",
        "plt.title('TimesFM Forecast on Sine Time Series')\n",
        "plt.xlabel('Time Step')\n",
        "plt.ylabel('Value')\n",
        "plt.legend()\n",
        "plt.grid(True, which='both', linestyle='--')\n",
        "plt.show()"
      ],
      "metadata": {
        "id": "cKfu7WMxK1fR"
      },
      "execution_count": null,
      "outputs": []
    },
    {
      "cell_type": "code",
      "source": [],
      "metadata": {
        "id": "q_5SYkq6K4ti"
      },
      "execution_count": null,
      "outputs": []
    }
  ]
}