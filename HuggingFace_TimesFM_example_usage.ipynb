{
  "nbformat": 4,
  "nbformat_minor": 0,
  "metadata": {
    "colab": {
      "provenance": [],
      "authorship_tag": "ABX9TyNsJhf+YUhwqKsPX7ykaoUU",
      "include_colab_link": true
    },
    "kernelspec": {
      "name": "python3",
      "display_name": "Python 3"
    },
    "language_info": {
      "name": "python"
    },
    "widgets": {
      "application/vnd.jupyter.widget-state+json": {
        "2fba8d01b6bb4654afdd04627312ca0a": {
          "model_module": "@jupyter-widgets/controls",
          "model_name": "HBoxModel",
          "model_module_version": "1.5.0",
          "state": {
            "_dom_classes": [],
            "_model_module": "@jupyter-widgets/controls",
            "_model_module_version": "1.5.0",
            "_model_name": "HBoxModel",
            "_view_count": null,
            "_view_module": "@jupyter-widgets/controls",
            "_view_module_version": "1.5.0",
            "_view_name": "HBoxView",
            "box_style": "",
            "children": [
              "IPY_MODEL_4d509fe6c5764d01b84d29e7e58acfc4",
              "IPY_MODEL_f07794c6a922401596ef85fc7247b241",
              "IPY_MODEL_df0324f91d414dbdb732adaed75ae16b"
            ],
            "layout": "IPY_MODEL_888fb4e511bb4db9ac0da1ae5ceeaada"
          }
        },
        "4d509fe6c5764d01b84d29e7e58acfc4": {
          "model_module": "@jupyter-widgets/controls",
          "model_name": "HTMLModel",
          "model_module_version": "1.5.0",
          "state": {
            "_dom_classes": [],
            "_model_module": "@jupyter-widgets/controls",
            "_model_module_version": "1.5.0",
            "_model_name": "HTMLModel",
            "_view_count": null,
            "_view_module": "@jupyter-widgets/controls",
            "_view_module_version": "1.5.0",
            "_view_name": "HTMLView",
            "description": "",
            "description_tooltip": null,
            "layout": "IPY_MODEL_c4f43f31865047ba92007a0e4864b5df",
            "placeholder": "​",
            "style": "IPY_MODEL_f102eb99b57243c889b6e014d6a740a6",
            "value": "config.json: 100%"
          }
        },
        "f07794c6a922401596ef85fc7247b241": {
          "model_module": "@jupyter-widgets/controls",
          "model_name": "FloatProgressModel",
          "model_module_version": "1.5.0",
          "state": {
            "_dom_classes": [],
            "_model_module": "@jupyter-widgets/controls",
            "_model_module_version": "1.5.0",
            "_model_name": "FloatProgressModel",
            "_view_count": null,
            "_view_module": "@jupyter-widgets/controls",
            "_view_module_version": "1.5.0",
            "_view_name": "ProgressView",
            "bar_style": "success",
            "description": "",
            "description_tooltip": null,
            "layout": "IPY_MODEL_5bba97b796e945868b86e42b875f3669",
            "max": 475,
            "min": 0,
            "orientation": "horizontal",
            "style": "IPY_MODEL_c5543cfb947445a0a26b88ff5b7f8f52",
            "value": 475
          }
        },
        "df0324f91d414dbdb732adaed75ae16b": {
          "model_module": "@jupyter-widgets/controls",
          "model_name": "HTMLModel",
          "model_module_version": "1.5.0",
          "state": {
            "_dom_classes": [],
            "_model_module": "@jupyter-widgets/controls",
            "_model_module_version": "1.5.0",
            "_model_name": "HTMLModel",
            "_view_count": null,
            "_view_module": "@jupyter-widgets/controls",
            "_view_module_version": "1.5.0",
            "_view_name": "HTMLView",
            "description": "",
            "description_tooltip": null,
            "layout": "IPY_MODEL_fbedbe35d29d43d89e8d8f930648f513",
            "placeholder": "​",
            "style": "IPY_MODEL_a4ab83823b0a4b148c5f2baf2a218b13",
            "value": " 475/475 [00:00&lt;00:00, 53.1kB/s]"
          }
        },
        "888fb4e511bb4db9ac0da1ae5ceeaada": {
          "model_module": "@jupyter-widgets/base",
          "model_name": "LayoutModel",
          "model_module_version": "1.2.0",
          "state": {
            "_model_module": "@jupyter-widgets/base",
            "_model_module_version": "1.2.0",
            "_model_name": "LayoutModel",
            "_view_count": null,
            "_view_module": "@jupyter-widgets/base",
            "_view_module_version": "1.2.0",
            "_view_name": "LayoutView",
            "align_content": null,
            "align_items": null,
            "align_self": null,
            "border": null,
            "bottom": null,
            "display": null,
            "flex": null,
            "flex_flow": null,
            "grid_area": null,
            "grid_auto_columns": null,
            "grid_auto_flow": null,
            "grid_auto_rows": null,
            "grid_column": null,
            "grid_gap": null,
            "grid_row": null,
            "grid_template_areas": null,
            "grid_template_columns": null,
            "grid_template_rows": null,
            "height": null,
            "justify_content": null,
            "justify_items": null,
            "left": null,
            "margin": null,
            "max_height": null,
            "max_width": null,
            "min_height": null,
            "min_width": null,
            "object_fit": null,
            "object_position": null,
            "order": null,
            "overflow": null,
            "overflow_x": null,
            "overflow_y": null,
            "padding": null,
            "right": null,
            "top": null,
            "visibility": null,
            "width": null
          }
        },
        "c4f43f31865047ba92007a0e4864b5df": {
          "model_module": "@jupyter-widgets/base",
          "model_name": "LayoutModel",
          "model_module_version": "1.2.0",
          "state": {
            "_model_module": "@jupyter-widgets/base",
            "_model_module_version": "1.2.0",
            "_model_name": "LayoutModel",
            "_view_count": null,
            "_view_module": "@jupyter-widgets/base",
            "_view_module_version": "1.2.0",
            "_view_name": "LayoutView",
            "align_content": null,
            "align_items": null,
            "align_self": null,
            "border": null,
            "bottom": null,
            "display": null,
            "flex": null,
            "flex_flow": null,
            "grid_area": null,
            "grid_auto_columns": null,
            "grid_auto_flow": null,
            "grid_auto_rows": null,
            "grid_column": null,
            "grid_gap": null,
            "grid_row": null,
            "grid_template_areas": null,
            "grid_template_columns": null,
            "grid_template_rows": null,
            "height": null,
            "justify_content": null,
            "justify_items": null,
            "left": null,
            "margin": null,
            "max_height": null,
            "max_width": null,
            "min_height": null,
            "min_width": null,
            "object_fit": null,
            "object_position": null,
            "order": null,
            "overflow": null,
            "overflow_x": null,
            "overflow_y": null,
            "padding": null,
            "right": null,
            "top": null,
            "visibility": null,
            "width": null
          }
        },
        "f102eb99b57243c889b6e014d6a740a6": {
          "model_module": "@jupyter-widgets/controls",
          "model_name": "DescriptionStyleModel",
          "model_module_version": "1.5.0",
          "state": {
            "_model_module": "@jupyter-widgets/controls",
            "_model_module_version": "1.5.0",
            "_model_name": "DescriptionStyleModel",
            "_view_count": null,
            "_view_module": "@jupyter-widgets/base",
            "_view_module_version": "1.2.0",
            "_view_name": "StyleView",
            "description_width": ""
          }
        },
        "5bba97b796e945868b86e42b875f3669": {
          "model_module": "@jupyter-widgets/base",
          "model_name": "LayoutModel",
          "model_module_version": "1.2.0",
          "state": {
            "_model_module": "@jupyter-widgets/base",
            "_model_module_version": "1.2.0",
            "_model_name": "LayoutModel",
            "_view_count": null,
            "_view_module": "@jupyter-widgets/base",
            "_view_module_version": "1.2.0",
            "_view_name": "LayoutView",
            "align_content": null,
            "align_items": null,
            "align_self": null,
            "border": null,
            "bottom": null,
            "display": null,
            "flex": null,
            "flex_flow": null,
            "grid_area": null,
            "grid_auto_columns": null,
            "grid_auto_flow": null,
            "grid_auto_rows": null,
            "grid_column": null,
            "grid_gap": null,
            "grid_row": null,
            "grid_template_areas": null,
            "grid_template_columns": null,
            "grid_template_rows": null,
            "height": null,
            "justify_content": null,
            "justify_items": null,
            "left": null,
            "margin": null,
            "max_height": null,
            "max_width": null,
            "min_height": null,
            "min_width": null,
            "object_fit": null,
            "object_position": null,
            "order": null,
            "overflow": null,
            "overflow_x": null,
            "overflow_y": null,
            "padding": null,
            "right": null,
            "top": null,
            "visibility": null,
            "width": null
          }
        },
        "c5543cfb947445a0a26b88ff5b7f8f52": {
          "model_module": "@jupyter-widgets/controls",
          "model_name": "ProgressStyleModel",
          "model_module_version": "1.5.0",
          "state": {
            "_model_module": "@jupyter-widgets/controls",
            "_model_module_version": "1.5.0",
            "_model_name": "ProgressStyleModel",
            "_view_count": null,
            "_view_module": "@jupyter-widgets/base",
            "_view_module_version": "1.2.0",
            "_view_name": "StyleView",
            "bar_color": null,
            "description_width": ""
          }
        },
        "fbedbe35d29d43d89e8d8f930648f513": {
          "model_module": "@jupyter-widgets/base",
          "model_name": "LayoutModel",
          "model_module_version": "1.2.0",
          "state": {
            "_model_module": "@jupyter-widgets/base",
            "_model_module_version": "1.2.0",
            "_model_name": "LayoutModel",
            "_view_count": null,
            "_view_module": "@jupyter-widgets/base",
            "_view_module_version": "1.2.0",
            "_view_name": "LayoutView",
            "align_content": null,
            "align_items": null,
            "align_self": null,
            "border": null,
            "bottom": null,
            "display": null,
            "flex": null,
            "flex_flow": null,
            "grid_area": null,
            "grid_auto_columns": null,
            "grid_auto_flow": null,
            "grid_auto_rows": null,
            "grid_column": null,
            "grid_gap": null,
            "grid_row": null,
            "grid_template_areas": null,
            "grid_template_columns": null,
            "grid_template_rows": null,
            "height": null,
            "justify_content": null,
            "justify_items": null,
            "left": null,
            "margin": null,
            "max_height": null,
            "max_width": null,
            "min_height": null,
            "min_width": null,
            "object_fit": null,
            "object_position": null,
            "order": null,
            "overflow": null,
            "overflow_x": null,
            "overflow_y": null,
            "padding": null,
            "right": null,
            "top": null,
            "visibility": null,
            "width": null
          }
        },
        "a4ab83823b0a4b148c5f2baf2a218b13": {
          "model_module": "@jupyter-widgets/controls",
          "model_name": "DescriptionStyleModel",
          "model_module_version": "1.5.0",
          "state": {
            "_model_module": "@jupyter-widgets/controls",
            "_model_module_version": "1.5.0",
            "_model_name": "DescriptionStyleModel",
            "_view_count": null,
            "_view_module": "@jupyter-widgets/base",
            "_view_module_version": "1.2.0",
            "_view_name": "StyleView",
            "description_width": ""
          }
        },
        "bcae88576d8e49c38e6b89e813755a0e": {
          "model_module": "@jupyter-widgets/controls",
          "model_name": "HBoxModel",
          "model_module_version": "1.5.0",
          "state": {
            "_dom_classes": [],
            "_model_module": "@jupyter-widgets/controls",
            "_model_module_version": "1.5.0",
            "_model_name": "HBoxModel",
            "_view_count": null,
            "_view_module": "@jupyter-widgets/controls",
            "_view_module_version": "1.5.0",
            "_view_name": "HBoxView",
            "box_style": "",
            "children": [
              "IPY_MODEL_e78f210835f44e849825d0deca221be7",
              "IPY_MODEL_3a9d4c28f0424562a28f3d12e00fe788",
              "IPY_MODEL_ec2a4d7f38454ce2ac7dc9f8a388811e"
            ],
            "layout": "IPY_MODEL_28ea6ad086f24d75a259c0ceaa8ec11e"
          }
        },
        "e78f210835f44e849825d0deca221be7": {
          "model_module": "@jupyter-widgets/controls",
          "model_name": "HTMLModel",
          "model_module_version": "1.5.0",
          "state": {
            "_dom_classes": [],
            "_model_module": "@jupyter-widgets/controls",
            "_model_module_version": "1.5.0",
            "_model_name": "HTMLModel",
            "_view_count": null,
            "_view_module": "@jupyter-widgets/controls",
            "_view_module_version": "1.5.0",
            "_view_name": "HTMLView",
            "description": "",
            "description_tooltip": null,
            "layout": "IPY_MODEL_8b4f943087ad454ea8a529989728719a",
            "placeholder": "​",
            "style": "IPY_MODEL_a17c34af94584efb9f472cc61d49ff6f",
            "value": "model.safetensors: 100%"
          }
        },
        "3a9d4c28f0424562a28f3d12e00fe788": {
          "model_module": "@jupyter-widgets/controls",
          "model_name": "FloatProgressModel",
          "model_module_version": "1.5.0",
          "state": {
            "_dom_classes": [],
            "_model_module": "@jupyter-widgets/controls",
            "_model_module_version": "1.5.0",
            "_model_name": "FloatProgressModel",
            "_view_count": null,
            "_view_module": "@jupyter-widgets/controls",
            "_view_module_version": "1.5.0",
            "_view_name": "ProgressView",
            "bar_style": "success",
            "description": "",
            "description_tooltip": null,
            "layout": "IPY_MODEL_ebfd40449b3e400d810401f8696baa9e",
            "max": 925181104,
            "min": 0,
            "orientation": "horizontal",
            "style": "IPY_MODEL_aee3ff7bc0b540d0a3b4c1e6ded6ef30",
            "value": 925181104
          }
        },
        "ec2a4d7f38454ce2ac7dc9f8a388811e": {
          "model_module": "@jupyter-widgets/controls",
          "model_name": "HTMLModel",
          "model_module_version": "1.5.0",
          "state": {
            "_dom_classes": [],
            "_model_module": "@jupyter-widgets/controls",
            "_model_module_version": "1.5.0",
            "_model_name": "HTMLModel",
            "_view_count": null,
            "_view_module": "@jupyter-widgets/controls",
            "_view_module_version": "1.5.0",
            "_view_name": "HTMLView",
            "description": "",
            "description_tooltip": null,
            "layout": "IPY_MODEL_45200c717505475b92d9ecc17a5d919f",
            "placeholder": "​",
            "style": "IPY_MODEL_0fd26db6b823462789f4331060a18ebe",
            "value": " 925M/925M [00:11&lt;00:00, 163MB/s]"
          }
        },
        "28ea6ad086f24d75a259c0ceaa8ec11e": {
          "model_module": "@jupyter-widgets/base",
          "model_name": "LayoutModel",
          "model_module_version": "1.2.0",
          "state": {
            "_model_module": "@jupyter-widgets/base",
            "_model_module_version": "1.2.0",
            "_model_name": "LayoutModel",
            "_view_count": null,
            "_view_module": "@jupyter-widgets/base",
            "_view_module_version": "1.2.0",
            "_view_name": "LayoutView",
            "align_content": null,
            "align_items": null,
            "align_self": null,
            "border": null,
            "bottom": null,
            "display": null,
            "flex": null,
            "flex_flow": null,
            "grid_area": null,
            "grid_auto_columns": null,
            "grid_auto_flow": null,
            "grid_auto_rows": null,
            "grid_column": null,
            "grid_gap": null,
            "grid_row": null,
            "grid_template_areas": null,
            "grid_template_columns": null,
            "grid_template_rows": null,
            "height": null,
            "justify_content": null,
            "justify_items": null,
            "left": null,
            "margin": null,
            "max_height": null,
            "max_width": null,
            "min_height": null,
            "min_width": null,
            "object_fit": null,
            "object_position": null,
            "order": null,
            "overflow": null,
            "overflow_x": null,
            "overflow_y": null,
            "padding": null,
            "right": null,
            "top": null,
            "visibility": null,
            "width": null
          }
        },
        "8b4f943087ad454ea8a529989728719a": {
          "model_module": "@jupyter-widgets/base",
          "model_name": "LayoutModel",
          "model_module_version": "1.2.0",
          "state": {
            "_model_module": "@jupyter-widgets/base",
            "_model_module_version": "1.2.0",
            "_model_name": "LayoutModel",
            "_view_count": null,
            "_view_module": "@jupyter-widgets/base",
            "_view_module_version": "1.2.0",
            "_view_name": "LayoutView",
            "align_content": null,
            "align_items": null,
            "align_self": null,
            "border": null,
            "bottom": null,
            "display": null,
            "flex": null,
            "flex_flow": null,
            "grid_area": null,
            "grid_auto_columns": null,
            "grid_auto_flow": null,
            "grid_auto_rows": null,
            "grid_column": null,
            "grid_gap": null,
            "grid_row": null,
            "grid_template_areas": null,
            "grid_template_columns": null,
            "grid_template_rows": null,
            "height": null,
            "justify_content": null,
            "justify_items": null,
            "left": null,
            "margin": null,
            "max_height": null,
            "max_width": null,
            "min_height": null,
            "min_width": null,
            "object_fit": null,
            "object_position": null,
            "order": null,
            "overflow": null,
            "overflow_x": null,
            "overflow_y": null,
            "padding": null,
            "right": null,
            "top": null,
            "visibility": null,
            "width": null
          }
        },
        "a17c34af94584efb9f472cc61d49ff6f": {
          "model_module": "@jupyter-widgets/controls",
          "model_name": "DescriptionStyleModel",
          "model_module_version": "1.5.0",
          "state": {
            "_model_module": "@jupyter-widgets/controls",
            "_model_module_version": "1.5.0",
            "_model_name": "DescriptionStyleModel",
            "_view_count": null,
            "_view_module": "@jupyter-widgets/base",
            "_view_module_version": "1.2.0",
            "_view_name": "StyleView",
            "description_width": ""
          }
        },
        "ebfd40449b3e400d810401f8696baa9e": {
          "model_module": "@jupyter-widgets/base",
          "model_name": "LayoutModel",
          "model_module_version": "1.2.0",
          "state": {
            "_model_module": "@jupyter-widgets/base",
            "_model_module_version": "1.2.0",
            "_model_name": "LayoutModel",
            "_view_count": null,
            "_view_module": "@jupyter-widgets/base",
            "_view_module_version": "1.2.0",
            "_view_name": "LayoutView",
            "align_content": null,
            "align_items": null,
            "align_self": null,
            "border": null,
            "bottom": null,
            "display": null,
            "flex": null,
            "flex_flow": null,
            "grid_area": null,
            "grid_auto_columns": null,
            "grid_auto_flow": null,
            "grid_auto_rows": null,
            "grid_column": null,
            "grid_gap": null,
            "grid_row": null,
            "grid_template_areas": null,
            "grid_template_columns": null,
            "grid_template_rows": null,
            "height": null,
            "justify_content": null,
            "justify_items": null,
            "left": null,
            "margin": null,
            "max_height": null,
            "max_width": null,
            "min_height": null,
            "min_width": null,
            "object_fit": null,
            "object_position": null,
            "order": null,
            "overflow": null,
            "overflow_x": null,
            "overflow_y": null,
            "padding": null,
            "right": null,
            "top": null,
            "visibility": null,
            "width": null
          }
        },
        "aee3ff7bc0b540d0a3b4c1e6ded6ef30": {
          "model_module": "@jupyter-widgets/controls",
          "model_name": "ProgressStyleModel",
          "model_module_version": "1.5.0",
          "state": {
            "_model_module": "@jupyter-widgets/controls",
            "_model_module_version": "1.5.0",
            "_model_name": "ProgressStyleModel",
            "_view_count": null,
            "_view_module": "@jupyter-widgets/base",
            "_view_module_version": "1.2.0",
            "_view_name": "StyleView",
            "bar_color": null,
            "description_width": ""
          }
        },
        "45200c717505475b92d9ecc17a5d919f": {
          "model_module": "@jupyter-widgets/base",
          "model_name": "LayoutModel",
          "model_module_version": "1.2.0",
          "state": {
            "_model_module": "@jupyter-widgets/base",
            "_model_module_version": "1.2.0",
            "_model_name": "LayoutModel",
            "_view_count": null,
            "_view_module": "@jupyter-widgets/base",
            "_view_module_version": "1.2.0",
            "_view_name": "LayoutView",
            "align_content": null,
            "align_items": null,
            "align_self": null,
            "border": null,
            "bottom": null,
            "display": null,
            "flex": null,
            "flex_flow": null,
            "grid_area": null,
            "grid_auto_columns": null,
            "grid_auto_flow": null,
            "grid_auto_rows": null,
            "grid_column": null,
            "grid_gap": null,
            "grid_row": null,
            "grid_template_areas": null,
            "grid_template_columns": null,
            "grid_template_rows": null,
            "height": null,
            "justify_content": null,
            "justify_items": null,
            "left": null,
            "margin": null,
            "max_height": null,
            "max_width": null,
            "min_height": null,
            "min_width": null,
            "object_fit": null,
            "object_position": null,
            "order": null,
            "overflow": null,
            "overflow_x": null,
            "overflow_y": null,
            "padding": null,
            "right": null,
            "top": null,
            "visibility": null,
            "width": null
          }
        },
        "0fd26db6b823462789f4331060a18ebe": {
          "model_module": "@jupyter-widgets/controls",
          "model_name": "DescriptionStyleModel",
          "model_module_version": "1.5.0",
          "state": {
            "_model_module": "@jupyter-widgets/controls",
            "_model_module_version": "1.5.0",
            "_model_name": "DescriptionStyleModel",
            "_view_count": null,
            "_view_module": "@jupyter-widgets/base",
            "_view_module_version": "1.2.0",
            "_view_name": "StyleView",
            "description_width": ""
          }
        }
      }
    }
  },
  "cells": [
    {
      "cell_type": "markdown",
      "metadata": {
        "id": "view-in-github",
        "colab_type": "text"
      },
      "source": [
        "<a href=\"https://colab.research.google.com/github/fpgmina/DeepNLP/blob/main/HuggingFace_TimesFM_example_usage.ipynb\" target=\"_parent\"><img src=\"https://colab.research.google.com/assets/colab-badge.svg\" alt=\"Open In Colab\"/></a>"
      ]
    },
    {
      "cell_type": "markdown",
      "source": [
        "HuggingFace: https://huggingface.co/google/timesfm-2.5-200m-pytorch\n",
        "\n",
        "GitHub: https://github.com/google-research/timesfm"
      ],
      "metadata": {
        "id": "QtXg1l-1L2b1"
      }
    },
    {
      "cell_type": "code",
      "source": [
        "# 1. Install the timesfm library (Run this in a Colab cell)\n",
        "!pip install git+https://github.com/google-research/timesfm.git"
      ],
      "metadata": {
        "colab": {
          "base_uri": "https://localhost:8080/"
        },
        "id": "_knQhWGUJY75",
        "outputId": "8ee07c02-8b5f-43c4-c022-86d35c380422"
      },
      "execution_count": 1,
      "outputs": [
        {
          "output_type": "stream",
          "name": "stdout",
          "text": [
            "Collecting git+https://github.com/google-research/timesfm.git\n",
            "  Cloning https://github.com/google-research/timesfm.git to /tmp/pip-req-build-t3jsln18\n",
            "  Running command git clone --filter=blob:none --quiet https://github.com/google-research/timesfm.git /tmp/pip-req-build-t3jsln18\n",
            "  Resolved https://github.com/google-research/timesfm.git to commit 58e01ad82fec7f4e975d708409d51fd5c0131bbd\n",
            "  Installing build dependencies ... \u001b[?25l\u001b[?25hdone\n",
            "  Getting requirements to build wheel ... \u001b[?25l\u001b[?25hdone\n",
            "  Preparing metadata (pyproject.toml) ... \u001b[?25l\u001b[?25hdone\n",
            "Requirement already satisfied: numpy>=1.26.4 in /usr/local/lib/python3.12/dist-packages (from timesfm==2.0.0) (2.0.2)\n",
            "Requirement already satisfied: huggingface_hub>=0.23.0 in /usr/local/lib/python3.12/dist-packages (from huggingface_hub[cli]>=0.23.0->timesfm==2.0.0) (0.35.3)\n",
            "Requirement already satisfied: safetensors>=0.5.3 in /usr/local/lib/python3.12/dist-packages (from timesfm==2.0.0) (0.6.2)\n",
            "Requirement already satisfied: filelock in /usr/local/lib/python3.12/dist-packages (from huggingface_hub>=0.23.0->huggingface_hub[cli]>=0.23.0->timesfm==2.0.0) (3.20.0)\n",
            "Requirement already satisfied: fsspec>=2023.5.0 in /usr/local/lib/python3.12/dist-packages (from huggingface_hub>=0.23.0->huggingface_hub[cli]>=0.23.0->timesfm==2.0.0) (2025.3.0)\n",
            "Requirement already satisfied: packaging>=20.9 in /usr/local/lib/python3.12/dist-packages (from huggingface_hub>=0.23.0->huggingface_hub[cli]>=0.23.0->timesfm==2.0.0) (25.0)\n",
            "Requirement already satisfied: pyyaml>=5.1 in /usr/local/lib/python3.12/dist-packages (from huggingface_hub>=0.23.0->huggingface_hub[cli]>=0.23.0->timesfm==2.0.0) (6.0.3)\n",
            "Requirement already satisfied: requests in /usr/local/lib/python3.12/dist-packages (from huggingface_hub>=0.23.0->huggingface_hub[cli]>=0.23.0->timesfm==2.0.0) (2.32.4)\n",
            "Requirement already satisfied: tqdm>=4.42.1 in /usr/local/lib/python3.12/dist-packages (from huggingface_hub>=0.23.0->huggingface_hub[cli]>=0.23.0->timesfm==2.0.0) (4.67.1)\n",
            "Requirement already satisfied: typing-extensions>=3.7.4.3 in /usr/local/lib/python3.12/dist-packages (from huggingface_hub>=0.23.0->huggingface_hub[cli]>=0.23.0->timesfm==2.0.0) (4.15.0)\n",
            "Requirement already satisfied: hf-xet<2.0.0,>=1.1.3 in /usr/local/lib/python3.12/dist-packages (from huggingface_hub>=0.23.0->huggingface_hub[cli]>=0.23.0->timesfm==2.0.0) (1.1.10)\n",
            "Collecting InquirerPy==0.3.4 (from huggingface_hub[cli]>=0.23.0->timesfm==2.0.0)\n",
            "  Downloading InquirerPy-0.3.4-py3-none-any.whl.metadata (8.1 kB)\n",
            "Collecting pfzy<0.4.0,>=0.3.1 (from InquirerPy==0.3.4->huggingface_hub[cli]>=0.23.0->timesfm==2.0.0)\n",
            "  Downloading pfzy-0.3.4-py3-none-any.whl.metadata (4.9 kB)\n",
            "Requirement already satisfied: prompt-toolkit<4.0.0,>=3.0.1 in /usr/local/lib/python3.12/dist-packages (from InquirerPy==0.3.4->huggingface_hub[cli]>=0.23.0->timesfm==2.0.0) (3.0.52)\n",
            "Requirement already satisfied: charset_normalizer<4,>=2 in /usr/local/lib/python3.12/dist-packages (from requests->huggingface_hub>=0.23.0->huggingface_hub[cli]>=0.23.0->timesfm==2.0.0) (3.4.4)\n",
            "Requirement already satisfied: idna<4,>=2.5 in /usr/local/lib/python3.12/dist-packages (from requests->huggingface_hub>=0.23.0->huggingface_hub[cli]>=0.23.0->timesfm==2.0.0) (3.11)\n",
            "Requirement already satisfied: urllib3<3,>=1.21.1 in /usr/local/lib/python3.12/dist-packages (from requests->huggingface_hub>=0.23.0->huggingface_hub[cli]>=0.23.0->timesfm==2.0.0) (2.5.0)\n",
            "Requirement already satisfied: certifi>=2017.4.17 in /usr/local/lib/python3.12/dist-packages (from requests->huggingface_hub>=0.23.0->huggingface_hub[cli]>=0.23.0->timesfm==2.0.0) (2025.10.5)\n",
            "Requirement already satisfied: wcwidth in /usr/local/lib/python3.12/dist-packages (from prompt-toolkit<4.0.0,>=3.0.1->InquirerPy==0.3.4->huggingface_hub[cli]>=0.23.0->timesfm==2.0.0) (0.2.14)\n",
            "Downloading InquirerPy-0.3.4-py3-none-any.whl (67 kB)\n",
            "\u001b[2K   \u001b[90m━━━━━━━━━━━━━━━━━━━━━━━━━━━━━━━━━━━━━━━━\u001b[0m \u001b[32m67.7/67.7 kB\u001b[0m \u001b[31m2.8 MB/s\u001b[0m eta \u001b[36m0:00:00\u001b[0m\n",
            "\u001b[?25hDownloading pfzy-0.3.4-py3-none-any.whl (8.5 kB)\n",
            "Building wheels for collected packages: timesfm\n",
            "  Building wheel for timesfm (pyproject.toml) ... \u001b[?25l\u001b[?25hdone\n",
            "  Created wheel for timesfm: filename=timesfm-2.0.0-py3-none-any.whl size=36623 sha256=2da4bd1766de76a7e30b263acd945bacf7804fef6602be26515c931947461bce\n",
            "  Stored in directory: /tmp/pip-ephem-wheel-cache-b5fbqdeg/wheels/d0/38/4b/2726a715c889b3debae031f66677e568b6cac46fdc9f1c63eb\n",
            "Successfully built timesfm\n",
            "Installing collected packages: pfzy, InquirerPy, timesfm\n",
            "Successfully installed InquirerPy-0.3.4 pfzy-0.3.4 timesfm-2.0.0\n"
          ]
        }
      ]
    },
    {
      "cell_type": "code",
      "source": [
        "import numpy as np\n",
        "import torch\n",
        "import timesfm\n",
        "import matplotlib.pyplot as plt"
      ],
      "metadata": {
        "id": "93YYPusnJci_"
      },
      "execution_count": 13,
      "outputs": []
    },
    {
      "cell_type": "code",
      "execution_count": 3,
      "metadata": {
        "colab": {
          "base_uri": "https://localhost:8080/",
          "height": 191,
          "referenced_widgets": [
            "2fba8d01b6bb4654afdd04627312ca0a",
            "4d509fe6c5764d01b84d29e7e58acfc4",
            "f07794c6a922401596ef85fc7247b241",
            "df0324f91d414dbdb732adaed75ae16b",
            "888fb4e511bb4db9ac0da1ae5ceeaada",
            "c4f43f31865047ba92007a0e4864b5df",
            "f102eb99b57243c889b6e014d6a740a6",
            "5bba97b796e945868b86e42b875f3669",
            "c5543cfb947445a0a26b88ff5b7f8f52",
            "fbedbe35d29d43d89e8d8f930648f513",
            "a4ab83823b0a4b148c5f2baf2a218b13",
            "bcae88576d8e49c38e6b89e813755a0e",
            "e78f210835f44e849825d0deca221be7",
            "3a9d4c28f0424562a28f3d12e00fe788",
            "ec2a4d7f38454ce2ac7dc9f8a388811e",
            "28ea6ad086f24d75a259c0ceaa8ec11e",
            "8b4f943087ad454ea8a529989728719a",
            "a17c34af94584efb9f472cc61d49ff6f",
            "ebfd40449b3e400d810401f8696baa9e",
            "aee3ff7bc0b540d0a3b4c1e6ded6ef30",
            "45200c717505475b92d9ecc17a5d919f",
            "0fd26db6b823462789f4331060a18ebe"
          ]
        },
        "id": "1oQRiPKJJVCv",
        "outputId": "b1c0b93f-9437-4b10-e415-2d732169378e"
      },
      "outputs": [
        {
          "output_type": "stream",
          "name": "stderr",
          "text": [
            "/usr/local/lib/python3.12/dist-packages/huggingface_hub/utils/_auth.py:94: UserWarning: \n",
            "The secret `HF_TOKEN` does not exist in your Colab secrets.\n",
            "To authenticate with the Hugging Face Hub, create a token in your settings tab (https://huggingface.co/settings/tokens), set it as secret in your Google Colab and restart your session.\n",
            "You will be able to reuse this secret in all of your notebooks.\n",
            "Please note that authentication is recommended but still optional to access public models or datasets.\n",
            "  warnings.warn(\n"
          ]
        },
        {
          "output_type": "display_data",
          "data": {
            "text/plain": [
              "config.json:   0%|          | 0.00/475 [00:00<?, ?B/s]"
            ],
            "application/vnd.jupyter.widget-view+json": {
              "version_major": 2,
              "version_minor": 0,
              "model_id": "2fba8d01b6bb4654afdd04627312ca0a"
            }
          },
          "metadata": {}
        },
        {
          "output_type": "display_data",
          "data": {
            "text/plain": [
              "model.safetensors:   0%|          | 0.00/925M [00:00<?, ?B/s]"
            ],
            "application/vnd.jupyter.widget-view+json": {
              "version_major": 2,
              "version_minor": 0,
              "model_id": "bcae88576d8e49c38e6b89e813755a0e"
            }
          },
          "metadata": {}
        }
      ],
      "source": [
        "# 3. Load and Compile the Model (This may take a moment)\n",
        "torch.set_float32_matmul_precision(\"high\")\n",
        "model = timesfm.TimesFM_2p5_200M_torch.from_pretrained(\"google/timesfm-2.5-200m-pytorch\")\n",
        "\n",
        "# Define model configuration (use the standard defaults for a quick start)\n",
        "model.compile(\n",
        "    timesfm.ForecastConfig(\n",
        "        max_context=1024,\n",
        "        max_horizon=256,\n",
        "        normalize_inputs=True,\n",
        "    )\n",
        ")"
      ]
    },
    {
      "cell_type": "code",
      "source": [
        "# 4. Prepare Example Input Data\n",
        "# Use a numpy array of historical time series values\n",
        "# The model is univariate (one series at a time)\n",
        "historical_data_1 = np.linspace(0, 10, 100)  # Example 1: 100 context points\n",
        "historical_data_2 = np.sin(np.linspace(0, 20, 67)) # Example 2: 67 context points\n",
        "\n",
        "# 5. Make a Forecast\n",
        "horizon_steps = 12\n",
        "point_forecast, quantile_forecast = model.forecast(\n",
        "    horizon=horizon_steps,\n",
        "    inputs=[historical_data_1, historical_data_2] # Pass your series as a list\n",
        ")\n",
        "\n",
        "# Output shapes:\n",
        "# point_forecast.shape -> (2, 12)  # (Number of Series, Horizon)\n",
        "# quantile_forecast.shape -> (2, 12, 10) # (Series, Horizon, Quantiles)"
      ],
      "metadata": {
        "id": "JEaG1loMJ0VM"
      },
      "execution_count": 4,
      "outputs": []
    },
    {
      "cell_type": "code",
      "source": [
        "point_forecast"
      ],
      "metadata": {
        "colab": {
          "base_uri": "https://localhost:8080/"
        },
        "id": "Kw9WJ5dRJ5TF",
        "outputId": "dee17d25-c482-44a3-9370-17b8cb6567c5"
      },
      "execution_count": 5,
      "outputs": [
        {
          "output_type": "execute_result",
          "data": {
            "text/plain": [
              "array([[10.127586  , 10.18839   , 10.272738  , 10.430081  , 10.479407  ,\n",
              "        10.591321  , 10.746951  , 10.754816  , 10.890969  , 11.026997  ,\n",
              "        11.1163225 , 11.225952  ],\n",
              "       [ 0.98553497,  0.977988  ,  0.89091355,  0.7285633 ,  0.47109842,\n",
              "         0.19757856, -0.1051051 , -0.3954248 , -0.63100696, -0.8359535 ,\n",
              "        -0.96646327, -1.0037615 ]], dtype=float32)"
            ]
          },
          "metadata": {},
          "execution_count": 5
        }
      ]
    },
    {
      "cell_type": "markdown",
      "source": [
        "## Example Usage with Sine Function"
      ],
      "metadata": {
        "id": "3LiXm0e3Khtw"
      }
    },
    {
      "cell_type": "code",
      "source": [
        "# --- 1. Generate the Full Sine Wave Data ---\n",
        "# A common setup: 4 full cycles (e.g., 400 data points)\n",
        "n_cycles = 4\n",
        "n_points_per_cycle = 100\n",
        "n_total = n_cycles * n_points_per_cycle\n",
        "\n",
        "# Generate the true underlying sine series\n",
        "t = np.linspace(0, n_cycles * 2 * np.pi, n_total, endpoint=False)\n",
        "full_series = 10 * np.sin(t)\n",
        "\n",
        "# --- 2. Define Context (Input) and True Horizon (Ground Truth) ---\n",
        "context_len = 300  # Use the first 3 cycles/300 points as input\n",
        "horizon_len = 100  # Predict the last cycle/100 points\n",
        "\n",
        "historical_data = full_series[:context_len]\n",
        "true_future = full_series[context_len:context_len + horizon_len]\n",
        "\n",
        "# Note: TimesFM is designed for a minimum context of ~30 points.\n",
        "# Using a large context (300) gives it ample pattern data."
      ],
      "metadata": {
        "id": "7MJSCAMFKisb"
      },
      "execution_count": 6,
      "outputs": []
    },
    {
      "cell_type": "code",
      "source": [
        "# (Assuming TimesFM library is installed and the model object 'model' is loaded and compiled)\n",
        "\n",
        "# Generate the forecast (TimesFM expects inputs as a list)\n",
        "point_forecast, _ = model.forecast(\n",
        "    horizon=horizon_len,\n",
        "    inputs=[historical_data]\n",
        ")\n",
        "\n",
        "# Extract the single point forecast array\n",
        "forecast_values = point_forecast[0]"
      ],
      "metadata": {
        "id": "5Pen-Ft3KjP2"
      },
      "execution_count": 7,
      "outputs": []
    },
    {
      "cell_type": "code",
      "source": [],
      "metadata": {
        "colab": {
          "base_uri": "https://localhost:8080/"
        },
        "id": "ZisXX8H0Kpyo",
        "outputId": "f6df43d7-2669-4503-812c-fcea226c38b0"
      },
      "execution_count": 10,
      "outputs": [
        {
          "output_type": "execute_result",
          "data": {
            "text/plain": [
              "array([[ -0.02836124,   0.64590156,   1.2485398 ,   1.8913187 ,\n",
              "          2.5101426 ,   3.1362052 ,   3.7228386 ,   4.303605  ,\n",
              "          4.846789  ,   5.4296236 ,   5.858445  ,   6.429393  ,\n",
              "          6.9007196 ,   7.361635  ,   7.7597747 ,   8.165259  ,\n",
              "          8.444562  ,   8.739999  ,   9.048462  ,   9.294785  ,\n",
              "          9.496502  ,   9.625822  ,   9.791057  ,   9.92655   ,\n",
              "          9.929514  ,   9.935843  ,   9.9164915 ,   9.820473  ,\n",
              "          9.721509  ,   9.656652  ,   9.453539  ,   9.230165  ,\n",
              "          8.936476  ,   8.690623  ,   8.327624  ,   8.011588  ,\n",
              "          7.545164  ,   7.183541  ,   6.6990438 ,   6.280154  ,\n",
              "          5.748955  ,   5.2849574 ,   4.6822886 ,   4.1539073 ,\n",
              "          3.6014304 ,   2.9526434 ,   2.3407457 ,   1.7619555 ,\n",
              "          1.0939791 ,   0.52473384,  -0.12246377,  -0.7573082 ,\n",
              "         -1.3870757 ,  -1.9625372 ,  -2.6378453 ,  -3.2391589 ,\n",
              "         -3.7961016 ,  -4.382482  ,  -4.9840126 ,  -5.4476657 ,\n",
              "         -6.0094447 ,  -6.5276327 ,  -6.948684  ,  -7.402979  ,\n",
              "         -7.8275366 ,  -8.182432  ,  -8.537434  ,  -8.861118  ,\n",
              "         -9.154733  ,  -9.433744  ,  -9.646893  ,  -9.771708  ,\n",
              "         -9.841888  , -10.022326  , -10.043527  , -10.123778  ,\n",
              "        -10.039143  , -10.017179  ,  -9.894635  ,  -9.773606  ,\n",
              "         -9.526319  ,  -9.297128  ,  -9.025564  ,  -8.726088  ,\n",
              "         -8.439461  ,  -8.037129  ,  -7.639843  ,  -7.267597  ,\n",
              "         -6.8119926 ,  -6.308603  ,  -5.7794538 ,  -5.301007  ,\n",
              "         -4.6717386 ,  -4.1614337 ,  -3.584153  ,  -3.0187845 ,\n",
              "         -2.3758702 ,  -1.7768172 ,  -1.075792  ,  -0.46961683]],\n",
              "      dtype=float32)"
            ]
          },
          "metadata": {},
          "execution_count": 10
        }
      ]
    },
    {
      "cell_type": "code",
      "source": [
        "mae = np.mean(np.abs(true_future - forecast_values))\n",
        "rmse = np.sqrt(np.mean((true_future - forecast_values)**2))\n",
        "\n",
        "print(f\"\\nMean Absolute Error (MAE): {mae:.4f}\")\n",
        "print(f\"Root Mean Squared Error (RMSE): {rmse:.4f}\")"
      ],
      "metadata": {
        "colab": {
          "base_uri": "https://localhost:8080/"
        },
        "id": "uVe86RkpKq_i",
        "outputId": "cc871911-f55b-458a-d33f-1c7af7a63a28"
      },
      "execution_count": 11,
      "outputs": [
        {
          "output_type": "stream",
          "name": "stdout",
          "text": [
            "\n",
            "Mean Absolute Error (MAE): 0.0809\n",
            "Root Mean Squared Error (RMSE): 0.0931\n"
          ]
        }
      ]
    },
    {
      "cell_type": "code",
      "source": [
        "plt.figure(figsize=(12, 6))\n",
        "\n",
        "# Plot Historical Data\n",
        "plt.plot(range(context_len), historical_data, label='Historical Input', color='blue')\n",
        "\n",
        "# Plot True Future\n",
        "future_range = range(context_len, context_len + horizon_len)\n",
        "plt.plot(future_range, true_future, label='True Future (Ground Truth)', color='green', linestyle='--')\n",
        "\n",
        "# Plot Forecast\n",
        "plt.plot(future_range, forecast_values, label='TimesFM Forecast', color='red', linestyle='-', alpha=0.7)\n",
        "\n",
        "plt.axvline(x=context_len, color='gray', linestyle=':', label='Forecast Start')\n",
        "plt.title('TimesFM Forecast on Sine Time Series')\n",
        "plt.xlabel('Time Step')\n",
        "plt.ylabel('Value')\n",
        "plt.legend()\n",
        "plt.grid(True, which='both', linestyle='--')\n",
        "plt.show()"
      ],
      "metadata": {
        "colab": {
          "base_uri": "https://localhost:8080/",
          "height": 564
        },
        "id": "cKfu7WMxK1fR",
        "outputId": "3347762b-a753-460d-f845-f92ae911c72e"
      },
      "execution_count": 14,
      "outputs": [
        {
          "output_type": "display_data",
          "data": {
            "text/plain": [
              "<Figure size 1200x600 with 1 Axes>"
            ],
            "image/png": "[encoded data removed]"
          },
          "metadata": {}
        }
      ]
    },
    {
      "cell_type": "code",
      "source": [],
      "metadata": {
        "id": "q_5SYkq6K4ti"
      },
      "execution_count": null,
      "outputs": []
    }
  ]
}